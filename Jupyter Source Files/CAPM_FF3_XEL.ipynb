{
 "cells": [
  {
   "cell_type": "code",
   "execution_count": 1,
   "id": "312e31d7-7e38-42e2-b881-4934faccb8c1",
   "metadata": {
    "tags": []
   },
   "outputs": [],
   "source": [
    "#Import necessary libraries and \n",
    "import pandas as pd\n",
    "import yfinance as yf\n",
    "import statsmodels.api as sm\n",
    "import getFamaFrenchFactors as gff\n",
    "import seaborn as sns "
   ]
  },
  {
   "cell_type": "code",
   "execution_count": 2,
   "id": "387ede43-0e0c-4ba0-9663-0d069a285684",
   "metadata": {
    "tags": []
   },
   "outputs": [],
   "source": [
    "#Narrow search based on ticker symbol and start and end date of the historical data pull\n",
    "ticker = 'XEL'\n",
    "start = '2017-11-17'\n",
    "end = '2022-11-01'"
   ]
  },
  {
   "cell_type": "code",
   "execution_count": 3,
   "id": "b9b99802-c97b-4b0e-8d0a-5f699673d5c8",
   "metadata": {},
   "outputs": [
    {
     "name": "stdout",
     "output_type": "stream",
     "text": [
      "[*********************100%***********************]  1 of 1 completed\n"
     ]
    },
    {
     "data": {
      "text/html": [
       "<div>\n",
       "<style scoped>\n",
       "    .dataframe tbody tr th:only-of-type {\n",
       "        vertical-align: middle;\n",
       "    }\n",
       "\n",
       "    .dataframe tbody tr th {\n",
       "        vertical-align: top;\n",
       "    }\n",
       "\n",
       "    .dataframe thead th {\n",
       "        text-align: right;\n",
       "    }\n",
       "</style>\n",
       "<table border=\"1\" class=\"dataframe\">\n",
       "  <thead>\n",
       "    <tr style=\"text-align: right;\">\n",
       "      <th></th>\n",
       "      <th>Open</th>\n",
       "      <th>High</th>\n",
       "      <th>Low</th>\n",
       "      <th>Close</th>\n",
       "      <th>Adj Close</th>\n",
       "      <th>Volume</th>\n",
       "    </tr>\n",
       "    <tr>\n",
       "      <th>Date</th>\n",
       "      <th></th>\n",
       "      <th></th>\n",
       "      <th></th>\n",
       "      <th></th>\n",
       "      <th></th>\n",
       "      <th></th>\n",
       "    </tr>\n",
       "  </thead>\n",
       "  <tbody>\n",
       "    <tr>\n",
       "      <th>2017-11-17</th>\n",
       "      <td>51.060001</td>\n",
       "      <td>51.279999</td>\n",
       "      <td>50.799999</td>\n",
       "      <td>50.889999</td>\n",
       "      <td>44.150787</td>\n",
       "      <td>2185400</td>\n",
       "    </tr>\n",
       "    <tr>\n",
       "      <th>2017-11-20</th>\n",
       "      <td>50.919998</td>\n",
       "      <td>51.049999</td>\n",
       "      <td>50.560001</td>\n",
       "      <td>50.590000</td>\n",
       "      <td>43.890518</td>\n",
       "      <td>2176500</td>\n",
       "    </tr>\n",
       "    <tr>\n",
       "      <th>2017-11-21</th>\n",
       "      <td>50.730000</td>\n",
       "      <td>50.830002</td>\n",
       "      <td>50.540001</td>\n",
       "      <td>50.610001</td>\n",
       "      <td>43.907875</td>\n",
       "      <td>2740500</td>\n",
       "    </tr>\n",
       "    <tr>\n",
       "      <th>2017-11-22</th>\n",
       "      <td>50.610001</td>\n",
       "      <td>50.740002</td>\n",
       "      <td>50.349998</td>\n",
       "      <td>50.529999</td>\n",
       "      <td>43.838463</td>\n",
       "      <td>1928100</td>\n",
       "    </tr>\n",
       "    <tr>\n",
       "      <th>2017-11-24</th>\n",
       "      <td>50.669998</td>\n",
       "      <td>50.880001</td>\n",
       "      <td>50.639999</td>\n",
       "      <td>50.709999</td>\n",
       "      <td>43.994633</td>\n",
       "      <td>956000</td>\n",
       "    </tr>\n",
       "  </tbody>\n",
       "</table>\n",
       "</div>"
      ],
      "text/plain": [
       "                 Open       High        Low      Close  Adj Close   Volume\n",
       "Date                                                                      \n",
       "2017-11-17  51.060001  51.279999  50.799999  50.889999  44.150787  2185400\n",
       "2017-11-20  50.919998  51.049999  50.560001  50.590000  43.890518  2176500\n",
       "2017-11-21  50.730000  50.830002  50.540001  50.610001  43.907875  2740500\n",
       "2017-11-22  50.610001  50.740002  50.349998  50.529999  43.838463  1928100\n",
       "2017-11-24  50.669998  50.880001  50.639999  50.709999  43.994633   956000"
      ]
     },
     "execution_count": 3,
     "metadata": {},
     "output_type": "execute_result"
    }
   ],
   "source": [
    "#Download the stock data based on the variables outlined above\n",
    "stock_data = yf.download(ticker, start, end, adjusted=True)\n",
    "stock_data.head()"
   ]
  },
  {
   "cell_type": "code",
   "execution_count": 4,
   "id": "0138a2de-28db-4c01-be74-8163eadcf875",
   "metadata": {},
   "outputs": [
    {
     "data": {
      "text/html": [
       "<div>\n",
       "<style scoped>\n",
       "    .dataframe tbody tr th:only-of-type {\n",
       "        vertical-align: middle;\n",
       "    }\n",
       "\n",
       "    .dataframe tbody tr th {\n",
       "        vertical-align: top;\n",
       "    }\n",
       "\n",
       "    .dataframe thead th {\n",
       "        text-align: right;\n",
       "    }\n",
       "</style>\n",
       "<table border=\"1\" class=\"dataframe\">\n",
       "  <thead>\n",
       "    <tr style=\"text-align: right;\">\n",
       "      <th></th>\n",
       "      <th>Mkt-RF</th>\n",
       "      <th>SMB</th>\n",
       "      <th>HML</th>\n",
       "      <th>RF</th>\n",
       "    </tr>\n",
       "    <tr>\n",
       "      <th>Date</th>\n",
       "      <th></th>\n",
       "      <th></th>\n",
       "      <th></th>\n",
       "      <th></th>\n",
       "    </tr>\n",
       "  </thead>\n",
       "  <tbody>\n",
       "    <tr>\n",
       "      <th>2022-05-31</th>\n",
       "      <td>-0.0034</td>\n",
       "      <td>-0.0185</td>\n",
       "      <td>0.0841</td>\n",
       "      <td>0.0003</td>\n",
       "    </tr>\n",
       "    <tr>\n",
       "      <th>2022-06-30</th>\n",
       "      <td>-0.0843</td>\n",
       "      <td>0.0209</td>\n",
       "      <td>-0.0597</td>\n",
       "      <td>0.0006</td>\n",
       "    </tr>\n",
       "    <tr>\n",
       "      <th>2022-07-31</th>\n",
       "      <td>0.0957</td>\n",
       "      <td>0.0281</td>\n",
       "      <td>-0.0410</td>\n",
       "      <td>0.0008</td>\n",
       "    </tr>\n",
       "    <tr>\n",
       "      <th>2022-08-31</th>\n",
       "      <td>-0.0378</td>\n",
       "      <td>0.0139</td>\n",
       "      <td>0.0031</td>\n",
       "      <td>0.0019</td>\n",
       "    </tr>\n",
       "    <tr>\n",
       "      <th>2022-09-30</th>\n",
       "      <td>-0.0936</td>\n",
       "      <td>-0.0081</td>\n",
       "      <td>0.0005</td>\n",
       "      <td>0.0019</td>\n",
       "    </tr>\n",
       "  </tbody>\n",
       "</table>\n",
       "</div>"
      ],
      "text/plain": [
       "            Mkt-RF     SMB     HML      RF\n",
       "Date                                      \n",
       "2022-05-31 -0.0034 -0.0185  0.0841  0.0003\n",
       "2022-06-30 -0.0843  0.0209 -0.0597  0.0006\n",
       "2022-07-31  0.0957  0.0281 -0.0410  0.0008\n",
       "2022-08-31 -0.0378  0.0139  0.0031  0.0019\n",
       "2022-09-30 -0.0936 -0.0081  0.0005  0.0019"
      ]
     },
     "execution_count": 4,
     "metadata": {},
     "output_type": "execute_result"
    }
   ],
   "source": [
    "#Run the Fama French library to pull, Mkt-RF (risk free rate), SMB (performance of small cap stocks relative to large cap) and HML (high book to market value stocks compared to low book to market)\n",
    "ff_monthly = gff.famaFrench3Factor(frequency='m')\n",
    "ff_monthly.rename(columns={\"date_ff_factors\": 'Date'}, inplace=True)\n",
    "ff_monthly.set_index('Date', inplace=True)\n",
    "ff_monthly.tail()"
   ]
  },
  {
   "cell_type": "code",
   "execution_count": 5,
   "id": "72cb3981-143e-4af0-9697-4142b223982b",
   "metadata": {},
   "outputs": [
    {
     "data": {
      "text/html": [
       "<div>\n",
       "<style scoped>\n",
       "    .dataframe tbody tr th:only-of-type {\n",
       "        vertical-align: middle;\n",
       "    }\n",
       "\n",
       "    .dataframe tbody tr th {\n",
       "        vertical-align: top;\n",
       "    }\n",
       "\n",
       "    .dataframe thead th {\n",
       "        text-align: right;\n",
       "    }\n",
       "</style>\n",
       "<table border=\"1\" class=\"dataframe\">\n",
       "  <thead>\n",
       "    <tr style=\"text-align: right;\">\n",
       "      <th></th>\n",
       "      <th>Mkt-RF</th>\n",
       "      <th>SMB</th>\n",
       "      <th>HML</th>\n",
       "      <th>RF</th>\n",
       "      <th>Month_Rtn</th>\n",
       "    </tr>\n",
       "    <tr>\n",
       "      <th>Date</th>\n",
       "      <th></th>\n",
       "      <th></th>\n",
       "      <th></th>\n",
       "      <th></th>\n",
       "      <th></th>\n",
       "    </tr>\n",
       "  </thead>\n",
       "  <tbody>\n",
       "    <tr>\n",
       "      <th>2022-05-31</th>\n",
       "      <td>-0.0034</td>\n",
       "      <td>-0.0185</td>\n",
       "      <td>0.0841</td>\n",
       "      <td>0.0003</td>\n",
       "      <td>0.028392</td>\n",
       "    </tr>\n",
       "    <tr>\n",
       "      <th>2022-06-30</th>\n",
       "      <td>-0.0843</td>\n",
       "      <td>0.0209</td>\n",
       "      <td>-0.0597</td>\n",
       "      <td>0.0006</td>\n",
       "      <td>-0.054041</td>\n",
       "    </tr>\n",
       "    <tr>\n",
       "      <th>2022-07-31</th>\n",
       "      <td>0.0957</td>\n",
       "      <td>0.0281</td>\n",
       "      <td>-0.0410</td>\n",
       "      <td>0.0008</td>\n",
       "      <td>0.034200</td>\n",
       "    </tr>\n",
       "    <tr>\n",
       "      <th>2022-08-31</th>\n",
       "      <td>-0.0378</td>\n",
       "      <td>0.0139</td>\n",
       "      <td>0.0031</td>\n",
       "      <td>0.0019</td>\n",
       "      <td>0.014621</td>\n",
       "    </tr>\n",
       "    <tr>\n",
       "      <th>2022-09-30</th>\n",
       "      <td>-0.0936</td>\n",
       "      <td>-0.0081</td>\n",
       "      <td>0.0005</td>\n",
       "      <td>0.0019</td>\n",
       "      <td>-0.132408</td>\n",
       "    </tr>\n",
       "  </tbody>\n",
       "</table>\n",
       "</div>"
      ],
      "text/plain": [
       "            Mkt-RF     SMB     HML      RF  Month_Rtn\n",
       "Date                                                 \n",
       "2022-05-31 -0.0034 -0.0185  0.0841  0.0003   0.028392\n",
       "2022-06-30 -0.0843  0.0209 -0.0597  0.0006  -0.054041\n",
       "2022-07-31  0.0957  0.0281 -0.0410  0.0008   0.034200\n",
       "2022-08-31 -0.0378  0.0139  0.0031  0.0019   0.014621\n",
       "2022-09-30 -0.0936 -0.0081  0.0005  0.0019  -0.132408"
      ]
     },
     "execution_count": 5,
     "metadata": {},
     "output_type": "execute_result"
    }
   ],
   "source": [
    "#Looking just at the adjusted close amounts on a per month basis from the Yahoo Finance pull, look at the percent change in comparison to prior month's data, and drop empty data fields\n",
    "stock_returns = stock_data['Adj Close'].resample('M').last().pct_change().dropna()\n",
    "stock_returns.name = \"Month_Rtn\"\n",
    "\n",
    "#Merge stock details with the Fama French details\n",
    "ff_data = ff_monthly.merge(stock_returns,on='Date')\n",
    "ff_data.tail()"
   ]
  },
  {
   "cell_type": "code",
   "execution_count": 6,
   "id": "ad949b01-10a1-46e8-93c0-b2a2f0e607fd",
   "metadata": {},
   "outputs": [],
   "source": [
    "#Define variables required to calculate the beta values\n",
    "X = ff_data[['Mkt-RF', 'SMB', 'HML']]\n",
    "y = ff_data['Month_Rtn'] - ff_data['RF']\n",
    "X = sm.add_constant(X)"
   ]
  },
  {
   "cell_type": "code",
   "execution_count": 7,
   "id": "2c2b5b33-8b0c-4a70-b55e-6330c8cab9e4",
   "metadata": {},
   "outputs": [
    {
     "name": "stdout",
     "output_type": "stream",
     "text": [
      "                            OLS Regression Results                            \n",
      "==============================================================================\n",
      "Dep. Variable:                      y   R-squared:                       0.281\n",
      "Model:                            OLS   Adj. R-squared:                  0.241\n",
      "Method:                 Least Squares   F-statistic:                     7.039\n",
      "Date:                Thu, 17 Nov 2022   Prob (F-statistic):           0.000444\n",
      "Time:                        20:24:23   Log-Likelihood:                 98.013\n",
      "No. Observations:                  58   AIC:                            -188.0\n",
      "Df Residuals:                      54   BIC:                            -179.8\n",
      "Df Model:                           3                                         \n",
      "Covariance Type:            nonrobust                                         \n",
      "==============================================================================\n",
      "                 coef    std err          t      P>|t|      [0.025      0.975]\n",
      "------------------------------------------------------------------------------\n",
      "const          0.0034      0.006      0.556      0.580      -0.009       0.016\n",
      "Mkt-RF         0.4640      0.117      3.963      0.000       0.229       0.699\n",
      "SMB           -0.7817      0.233     -3.356      0.001      -1.249      -0.315\n",
      "HML            0.0709      0.140      0.505      0.616      -0.211       0.352\n",
      "==============================================================================\n",
      "Omnibus:                        0.566   Durbin-Watson:                   1.994\n",
      "Prob(Omnibus):                  0.754   Jarque-Bera (JB):                0.345\n",
      "Skew:                          -0.189   Prob(JB):                        0.842\n",
      "Kurtosis:                       2.996   Cond. No.                         39.0\n",
      "==============================================================================\n",
      "\n",
      "Notes:\n",
      "[1] Standard Errors assume that the covariance matrix of the errors is correctly specified.\n"
     ]
    }
   ],
   "source": [
    "#Develop a model using the variables defined above\n",
    "ff_model = sm.OLS(y, X).fit()\n",
    "print(ff_model.summary())\n",
    "intercept, b1, b2, b3 = ff_model.params"
   ]
  },
  {
   "cell_type": "code",
   "execution_count": 8,
   "id": "791561f0-63ca-42f7-86f8-782ab004154b",
   "metadata": {},
   "outputs": [],
   "source": [
    "#Redefine values to help calculate the CAPM value\n",
    "x_capm = ff_data[['Mkt-RF']]\n",
    "y_capm = ff_data['Month_Rtn'] - ff_data['RF']\n",
    "X_capm = sm.add_constant(x_capm)\n"
   ]
  },
  {
   "cell_type": "code",
   "execution_count": 9,
   "id": "a886cd16-b7f1-4ba5-8a96-48b5afdcb1c7",
   "metadata": {},
   "outputs": [
    {
     "name": "stdout",
     "output_type": "stream",
     "text": [
      "                            OLS Regression Results                            \n",
      "==============================================================================\n",
      "Dep. Variable:                      y   R-squared:                       0.125\n",
      "Model:                            OLS   Adj. R-squared:                  0.109\n",
      "Method:                 Least Squares   F-statistic:                     7.997\n",
      "Date:                Thu, 17 Nov 2022   Prob (F-statistic):            0.00649\n",
      "Time:                        20:24:23   Log-Likelihood:                 92.312\n",
      "No. Observations:                  58   AIC:                            -180.6\n",
      "Df Residuals:                      56   BIC:                            -176.5\n",
      "Df Model:                           1                                         \n",
      "Covariance Type:            nonrobust                                         \n",
      "==============================================================================\n",
      "                 coef    std err          t      P>|t|      [0.025      0.975]\n",
      "------------------------------------------------------------------------------\n",
      "const          0.0043      0.007      0.654      0.516      -0.009       0.018\n",
      "Mkt-RF         0.3403      0.120      2.828      0.006       0.099       0.581\n",
      "==============================================================================\n",
      "Omnibus:                        0.009   Durbin-Watson:                   1.978\n",
      "Prob(Omnibus):                  0.995   Jarque-Bera (JB):                0.110\n",
      "Skew:                          -0.028   Prob(JB):                        0.946\n",
      "Kurtosis:                       2.794   Cond. No.                         18.3\n",
      "==============================================================================\n",
      "\n",
      "Notes:\n",
      "[1] Standard Errors assume that the covariance matrix of the errors is correctly specified.\n"
     ]
    }
   ],
   "source": [
    "#Run the CAPM calculation to find the intercept, and corresponding betas\n",
    "ff_model_capm = sm.OLS(y_capm, X_capm).fit()\n",
    "print(ff_model_capm.summary())\n",
    "intercept_capm, b1_capm = ff_model_capm.params"
   ]
  },
  {
   "cell_type": "code",
   "execution_count": 10,
   "id": "f66819e0-50cb-435d-a20c-16766e78c776",
   "metadata": {},
   "outputs": [
    {
     "data": {
      "text/plain": [
       "0.004338957813995912"
      ]
     },
     "execution_count": 10,
     "metadata": {},
     "output_type": "execute_result"
    }
   ],
   "source": [
    "intercept_capm"
   ]
  },
  {
   "cell_type": "code",
   "execution_count": 11,
   "id": "929ed4d4-da44-4a2a-a7b0-ff43ef95684b",
   "metadata": {},
   "outputs": [
    {
     "data": {
      "text/plain": [
       "0.340335034083134"
      ]
     },
     "execution_count": 11,
     "metadata": {},
     "output_type": "execute_result"
    }
   ],
   "source": [
    "b1_capm"
   ]
  },
  {
   "cell_type": "code",
   "execution_count": 12,
   "id": "44fd6f71-f4fc-45c0-a74f-8146de6847f0",
   "metadata": {},
   "outputs": [],
   "source": [
    "#Define variables to calculate the expected return using both the CAPM and Fama French\n",
    "mkt_rf = .61\n",
    "hml = .38\n",
    "smb = .25\n",
    "rf = .33"
   ]
  },
  {
   "cell_type": "code",
   "execution_count": 13,
   "id": "eddae08f-7390-447d-8804-f824c098740c",
   "metadata": {},
   "outputs": [
    {
     "data": {
      "text/plain": [
       "0.06645464645750532"
      ]
     },
     "execution_count": 13,
     "metadata": {},
     "output_type": "execute_result"
    }
   ],
   "source": [
    "#Create and run the CAPM expected return calculation using the variables and inputs from above\n",
    "capm_exreturn = rf + (mkt_rf*b1_capm)\n",
    "calc_capm_exreturn = (1+(capm_exreturn/100))**12-1\n",
    "calc_capm_exreturn"
   ]
  },
  {
   "cell_type": "code",
   "execution_count": 14,
   "id": "2ed9069a-186b-4ad7-a630-321b2c7b7166",
   "metadata": {},
   "outputs": [
    {
     "name": "stdout",
     "output_type": "stream",
     "text": [
      "Using the CAPM model, our expected rate of return on XEL is 6.65%.\n"
     ]
    }
   ],
   "source": [
    "# Print results\n",
    "print(f\"Using the CAPM model, our expected rate of return on {ticker} is {round(100*calc_capm_exreturn,2)}%.\")"
   ]
  },
  {
   "cell_type": "code",
   "execution_count": 15,
   "id": "d0648ebc-a698-43ae-aa7d-ee3b8a316a8d",
   "metadata": {},
   "outputs": [
    {
     "data": {
      "text/plain": [
       "0.05467220372003179"
      ]
     },
     "execution_count": 15,
     "metadata": {},
     "output_type": "execute_result"
    }
   ],
   "source": [
    "#Create and run the Fama French expected return calculation using the variables and inputs from above\n",
    "ff_exreturn = rf + (mkt_rf*b1)+(smb*b2)+(hml*b3)\n",
    "calc_ff_exreturn = (1+(ff_exreturn/100))**12-1\n",
    "calc_ff_exreturn"
   ]
  },
  {
   "cell_type": "code",
   "execution_count": 16,
   "id": "d4fadae0-2f9d-43bf-8075-3a09d745b664",
   "metadata": {},
   "outputs": [
    {
     "name": "stdout",
     "output_type": "stream",
     "text": [
      "Using the Fama French 3 Factor model, our expected rate of return on XEL is 5.47%.\n"
     ]
    }
   ],
   "source": [
    "# Print results\n",
    "print(f\"Using the Fama French 3 Factor model, our expected rate of return on {ticker} is {round(100*calc_ff_exreturn,2)}%.\")"
   ]
  },
  {
   "cell_type": "code",
   "execution_count": 17,
   "id": "38c4bd9a-de09-48de-8416-a759bf07bd76",
   "metadata": {},
   "outputs": [
    {
     "data": {
      "text/plain": [
       "<AxesSubplot:xlabel='Mkt-RF', ylabel='Month_Rtn'>"
      ]
     },
     "execution_count": 17,
     "metadata": {},
     "output_type": "execute_result"
    },
    {
     "data": {
      "image/png": "[encoded data removed]",
      "text/plain": [
       "<Figure size 640x480 with 1 Axes>"
      ]
     },
     "metadata": {},
     "output_type": "display_data"
    }
   ],
   "source": [
    "#Display a regression of the market return agains the chosen stock\n",
    "sns.regplot(data = ff_data, x = 'Mkt-RF', y='Month_Rtn')"
   ]
  }
 ],
 "metadata": {
  "kernelspec": {
   "display_name": "Python 3 (ipykernel)",
   "language": "python",
   "name": "python3"
  },
  "language_info": {
   "codemirror_mode": {
    "name": "ipython",
    "version": 3
   },
   "file_extension": ".py",
   "mimetype": "text/x-python",
   "name": "python",
   "nbconvert_exporter": "python",
   "pygments_lexer": "ipython3",
   "version": "3.7.15"
  },
  "vscode": {
   "interpreter": {
    "hash": "850e1b3f4705cd2b08db091e9e7e685ea18e6217621a969c2de23b7f90d84028"
   }
  }
 },
 "nbformat": 4,
 "nbformat_minor": 5
}
