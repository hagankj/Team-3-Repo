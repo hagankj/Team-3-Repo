{
 "cells": [
  {
   "cell_type": "code",
   "execution_count": 1,
   "id": "312e31d7-7e38-42e2-b881-4934faccb8c1",
   "metadata": {
    "tags": []
   },
   "outputs": [],
   "source": [
    "#Import necessary libraries and \n",
    "import pandas as pd\n",
    "import yfinance as yf\n",
    "import statsmodels.api as sm\n",
    "import getFamaFrenchFactors as gff\n",
    "import seaborn as sns "
   ]
  },
  {
   "cell_type": "code",
   "execution_count": 2,
   "id": "387ede43-0e0c-4ba0-9663-0d069a285684",
   "metadata": {
    "tags": []
   },
   "outputs": [],
   "source": [
    "#Narrow search based on ticker symbol and start and end date of the historical data pull\n",
    "ticker = 'TSLA'\n",
    "start = '2017-11-17'\n",
    "end = '2022-11-01'"
   ]
  },
  {
   "cell_type": "code",
   "execution_count": 3,
   "id": "b9b99802-c97b-4b0e-8d0a-5f699673d5c8",
   "metadata": {},
   "outputs": [
    {
     "name": "stdout",
     "output_type": "stream",
     "text": [
      "[*********************100%***********************]  1 of 1 completed\n"
     ]
    },
    {
     "data": {
      "text/html": [
       "<div>\n",
       "<style scoped>\n",
       "    .dataframe tbody tr th:only-of-type {\n",
       "        vertical-align: middle;\n",
       "    }\n",
       "\n",
       "    .dataframe tbody tr th {\n",
       "        vertical-align: top;\n",
       "    }\n",
       "\n",
       "    .dataframe thead th {\n",
       "        text-align: right;\n",
       "    }\n",
       "</style>\n",
       "<table border=\"1\" class=\"dataframe\">\n",
       "  <thead>\n",
       "    <tr style=\"text-align: right;\">\n",
       "      <th></th>\n",
       "      <th>Open</th>\n",
       "      <th>High</th>\n",
       "      <th>Low</th>\n",
       "      <th>Close</th>\n",
       "      <th>Adj Close</th>\n",
       "      <th>Volume</th>\n",
       "    </tr>\n",
       "    <tr>\n",
       "      <th>Date</th>\n",
       "      <th></th>\n",
       "      <th></th>\n",
       "      <th></th>\n",
       "      <th></th>\n",
       "      <th></th>\n",
       "      <th></th>\n",
       "    </tr>\n",
       "  </thead>\n",
       "  <tbody>\n",
       "    <tr>\n",
       "      <th>2017-11-17</th>\n",
       "      <td>21.711332</td>\n",
       "      <td>21.778000</td>\n",
       "      <td>20.876667</td>\n",
       "      <td>21.003332</td>\n",
       "      <td>21.003332</td>\n",
       "      <td>206026500</td>\n",
       "    </tr>\n",
       "    <tr>\n",
       "      <th>2017-11-20</th>\n",
       "      <td>20.919333</td>\n",
       "      <td>21.033333</td>\n",
       "      <td>20.316668</td>\n",
       "      <td>20.582666</td>\n",
       "      <td>20.582666</td>\n",
       "      <td>123715500</td>\n",
       "    </tr>\n",
       "    <tr>\n",
       "      <th>2017-11-21</th>\n",
       "      <td>20.724001</td>\n",
       "      <td>21.215334</td>\n",
       "      <td>20.580667</td>\n",
       "      <td>21.187332</td>\n",
       "      <td>21.187332</td>\n",
       "      <td>108919500</td>\n",
       "    </tr>\n",
       "    <tr>\n",
       "      <th>2017-11-22</th>\n",
       "      <td>21.118000</td>\n",
       "      <td>21.161333</td>\n",
       "      <td>20.789333</td>\n",
       "      <td>20.840000</td>\n",
       "      <td>20.840000</td>\n",
       "      <td>73764000</td>\n",
       "    </tr>\n",
       "    <tr>\n",
       "      <th>2017-11-24</th>\n",
       "      <td>20.919333</td>\n",
       "      <td>21.094000</td>\n",
       "      <td>20.733334</td>\n",
       "      <td>21.036667</td>\n",
       "      <td>21.036667</td>\n",
       "      <td>48661500</td>\n",
       "    </tr>\n",
       "  </tbody>\n",
       "</table>\n",
       "</div>"
      ],
      "text/plain": [
       "                 Open       High        Low      Close  Adj Close     Volume\n",
       "Date                                                                        \n",
       "2017-11-17  21.711332  21.778000  20.876667  21.003332  21.003332  206026500\n",
       "2017-11-20  20.919333  21.033333  20.316668  20.582666  20.582666  123715500\n",
       "2017-11-21  20.724001  21.215334  20.580667  21.187332  21.187332  108919500\n",
       "2017-11-22  21.118000  21.161333  20.789333  20.840000  20.840000   73764000\n",
       "2017-11-24  20.919333  21.094000  20.733334  21.036667  21.036667   48661500"
      ]
     },
     "execution_count": 3,
     "metadata": {},
     "output_type": "execute_result"
    }
   ],
   "source": [
    "#Download the stock data based on the variables outlined above\n",
    "stock_data = yf.download(ticker, start, end, adjusted=True)\n",
    "stock_data.head()"
   ]
  },
  {
   "cell_type": "code",
   "execution_count": 4,
   "id": "0138a2de-28db-4c01-be74-8163eadcf875",
   "metadata": {},
   "outputs": [
    {
     "data": {
      "text/html": [
       "<div>\n",
       "<style scoped>\n",
       "    .dataframe tbody tr th:only-of-type {\n",
       "        vertical-align: middle;\n",
       "    }\n",
       "\n",
       "    .dataframe tbody tr th {\n",
       "        vertical-align: top;\n",
       "    }\n",
       "\n",
       "    .dataframe thead th {\n",
       "        text-align: right;\n",
       "    }\n",
       "</style>\n",
       "<table border=\"1\" class=\"dataframe\">\n",
       "  <thead>\n",
       "    <tr style=\"text-align: right;\">\n",
       "      <th></th>\n",
       "      <th>Mkt-RF</th>\n",
       "      <th>SMB</th>\n",
       "      <th>HML</th>\n",
       "      <th>RF</th>\n",
       "    </tr>\n",
       "    <tr>\n",
       "      <th>Date</th>\n",
       "      <th></th>\n",
       "      <th></th>\n",
       "      <th></th>\n",
       "      <th></th>\n",
       "    </tr>\n",
       "  </thead>\n",
       "  <tbody>\n",
       "    <tr>\n",
       "      <th>1926-07-31</th>\n",
       "      <td>0.0296</td>\n",
       "      <td>-0.0256</td>\n",
       "      <td>-0.0243</td>\n",
       "      <td>0.0022</td>\n",
       "    </tr>\n",
       "    <tr>\n",
       "      <th>1926-08-31</th>\n",
       "      <td>0.0264</td>\n",
       "      <td>-0.0117</td>\n",
       "      <td>0.0382</td>\n",
       "      <td>0.0025</td>\n",
       "    </tr>\n",
       "    <tr>\n",
       "      <th>1926-09-30</th>\n",
       "      <td>0.0036</td>\n",
       "      <td>-0.0140</td>\n",
       "      <td>0.0013</td>\n",
       "      <td>0.0023</td>\n",
       "    </tr>\n",
       "    <tr>\n",
       "      <th>1926-10-31</th>\n",
       "      <td>-0.0324</td>\n",
       "      <td>-0.0009</td>\n",
       "      <td>0.0070</td>\n",
       "      <td>0.0032</td>\n",
       "    </tr>\n",
       "    <tr>\n",
       "      <th>1926-11-30</th>\n",
       "      <td>0.0253</td>\n",
       "      <td>-0.0010</td>\n",
       "      <td>-0.0051</td>\n",
       "      <td>0.0031</td>\n",
       "    </tr>\n",
       "    <tr>\n",
       "      <th>...</th>\n",
       "      <td>...</td>\n",
       "      <td>...</td>\n",
       "      <td>...</td>\n",
       "      <td>...</td>\n",
       "    </tr>\n",
       "    <tr>\n",
       "      <th>2022-05-31</th>\n",
       "      <td>-0.0034</td>\n",
       "      <td>-0.0185</td>\n",
       "      <td>0.0841</td>\n",
       "      <td>0.0003</td>\n",
       "    </tr>\n",
       "    <tr>\n",
       "      <th>2022-06-30</th>\n",
       "      <td>-0.0843</td>\n",
       "      <td>0.0209</td>\n",
       "      <td>-0.0597</td>\n",
       "      <td>0.0006</td>\n",
       "    </tr>\n",
       "    <tr>\n",
       "      <th>2022-07-31</th>\n",
       "      <td>0.0957</td>\n",
       "      <td>0.0281</td>\n",
       "      <td>-0.0410</td>\n",
       "      <td>0.0008</td>\n",
       "    </tr>\n",
       "    <tr>\n",
       "      <th>2022-08-31</th>\n",
       "      <td>-0.0378</td>\n",
       "      <td>0.0139</td>\n",
       "      <td>0.0031</td>\n",
       "      <td>0.0019</td>\n",
       "    </tr>\n",
       "    <tr>\n",
       "      <th>2022-09-30</th>\n",
       "      <td>-0.0936</td>\n",
       "      <td>-0.0081</td>\n",
       "      <td>0.0005</td>\n",
       "      <td>0.0019</td>\n",
       "    </tr>\n",
       "  </tbody>\n",
       "</table>\n",
       "<p>1155 rows × 4 columns</p>\n",
       "</div>"
      ],
      "text/plain": [
       "            Mkt-RF     SMB     HML      RF\n",
       "Date                                      \n",
       "1926-07-31  0.0296 -0.0256 -0.0243  0.0022\n",
       "1926-08-31  0.0264 -0.0117  0.0382  0.0025\n",
       "1926-09-30  0.0036 -0.0140  0.0013  0.0023\n",
       "1926-10-31 -0.0324 -0.0009  0.0070  0.0032\n",
       "1926-11-30  0.0253 -0.0010 -0.0051  0.0031\n",
       "...            ...     ...     ...     ...\n",
       "2022-05-31 -0.0034 -0.0185  0.0841  0.0003\n",
       "2022-06-30 -0.0843  0.0209 -0.0597  0.0006\n",
       "2022-07-31  0.0957  0.0281 -0.0410  0.0008\n",
       "2022-08-31 -0.0378  0.0139  0.0031  0.0019\n",
       "2022-09-30 -0.0936 -0.0081  0.0005  0.0019\n",
       "\n",
       "[1155 rows x 4 columns]"
      ]
     },
     "execution_count": 4,
     "metadata": {},
     "output_type": "execute_result"
    }
   ],
   "source": [
    "#Run the Fama French library to pull, Mkt-RF (risk free rate), SMB (performance of small cap stocks relative to large cap) and HML (high book to market value stocks compared to low book to market)\n",
    "ff_monthly = gff.famaFrench3Factor(frequency='m')\n",
    "ff_monthly.rename(columns={\"date_ff_factors\": 'Date'}, inplace=True)\n",
    "ff_monthly.set_index('Date', inplace=True)\n",
    "ff_monthly"
   ]
  },
  {
   "cell_type": "code",
   "execution_count": 5,
   "id": "72cb3981-143e-4af0-9697-4142b223982b",
   "metadata": {},
   "outputs": [
    {
     "data": {
      "text/html": [
       "<div>\n",
       "<style scoped>\n",
       "    .dataframe tbody tr th:only-of-type {\n",
       "        vertical-align: middle;\n",
       "    }\n",
       "\n",
       "    .dataframe tbody tr th {\n",
       "        vertical-align: top;\n",
       "    }\n",
       "\n",
       "    .dataframe thead th {\n",
       "        text-align: right;\n",
       "    }\n",
       "</style>\n",
       "<table border=\"1\" class=\"dataframe\">\n",
       "  <thead>\n",
       "    <tr style=\"text-align: right;\">\n",
       "      <th></th>\n",
       "      <th>Mkt-RF</th>\n",
       "      <th>SMB</th>\n",
       "      <th>HML</th>\n",
       "      <th>RF</th>\n",
       "      <th>Month_Rtn</th>\n",
       "    </tr>\n",
       "    <tr>\n",
       "      <th>Date</th>\n",
       "      <th></th>\n",
       "      <th></th>\n",
       "      <th></th>\n",
       "      <th></th>\n",
       "      <th></th>\n",
       "    </tr>\n",
       "  </thead>\n",
       "  <tbody>\n",
       "    <tr>\n",
       "      <th>2022-05-31</th>\n",
       "      <td>-0.0034</td>\n",
       "      <td>-0.0185</td>\n",
       "      <td>0.0841</td>\n",
       "      <td>0.0003</td>\n",
       "      <td>-0.129197</td>\n",
       "    </tr>\n",
       "    <tr>\n",
       "      <th>2022-06-30</th>\n",
       "      <td>-0.0843</td>\n",
       "      <td>0.0209</td>\n",
       "      <td>-0.0597</td>\n",
       "      <td>0.0006</td>\n",
       "      <td>-0.111888</td>\n",
       "    </tr>\n",
       "    <tr>\n",
       "      <th>2022-07-31</th>\n",
       "      <td>0.0957</td>\n",
       "      <td>0.0281</td>\n",
       "      <td>-0.0410</td>\n",
       "      <td>0.0008</td>\n",
       "      <td>0.323765</td>\n",
       "    </tr>\n",
       "    <tr>\n",
       "      <th>2022-08-31</th>\n",
       "      <td>-0.0378</td>\n",
       "      <td>0.0139</td>\n",
       "      <td>0.0031</td>\n",
       "      <td>0.0019</td>\n",
       "      <td>-0.072489</td>\n",
       "    </tr>\n",
       "    <tr>\n",
       "      <th>2022-09-30</th>\n",
       "      <td>-0.0936</td>\n",
       "      <td>-0.0081</td>\n",
       "      <td>0.0005</td>\n",
       "      <td>0.0019</td>\n",
       "      <td>-0.037589</td>\n",
       "    </tr>\n",
       "  </tbody>\n",
       "</table>\n",
       "</div>"
      ],
      "text/plain": [
       "            Mkt-RF     SMB     HML      RF  Month_Rtn\n",
       "Date                                                 \n",
       "2022-05-31 -0.0034 -0.0185  0.0841  0.0003  -0.129197\n",
       "2022-06-30 -0.0843  0.0209 -0.0597  0.0006  -0.111888\n",
       "2022-07-31  0.0957  0.0281 -0.0410  0.0008   0.323765\n",
       "2022-08-31 -0.0378  0.0139  0.0031  0.0019  -0.072489\n",
       "2022-09-30 -0.0936 -0.0081  0.0005  0.0019  -0.037589"
      ]
     },
     "execution_count": 5,
     "metadata": {},
     "output_type": "execute_result"
    }
   ],
   "source": [
    "#Looking just at the adjusted close amounts on a per month basis from the Yahoo Finance pull, look at the percent change in comparison to prior month's data, and drop empty data fields\n",
    "stock_returns = stock_data['Adj Close'].resample('m').last().pct_change().dropna()\n",
    "stock_returns.name = \"Month_Rtn\"\n",
    "\n",
    "#Merge stock details with the Fama French details\n",
    "ff_data = ff_monthly.merge(stock_returns,on='Date')\n",
    "ff_data.tail()"
   ]
  },
  {
   "cell_type": "code",
   "execution_count": 6,
   "id": "ad949b01-10a1-46e8-93c0-b2a2f0e607fd",
   "metadata": {},
   "outputs": [],
   "source": [
    "#Define variables required to calculate the beta values\n",
    "X = ff_data[['Mkt-RF', 'SMB', 'HML']]\n",
    "y = ff_data['Month_Rtn'] - ff_data['RF']\n",
    "X = sm.add_constant(X)"
   ]
  },
  {
   "cell_type": "code",
   "execution_count": 7,
   "id": "2d7a7737-a68c-4bb1-b829-df7cab62fe97",
   "metadata": {},
   "outputs": [
    {
     "name": "stdout",
     "output_type": "stream",
     "text": [
      "                            OLS Regression Results                            \n",
      "==============================================================================\n",
      "Dep. Variable:                      y   R-squared:                       0.353\n",
      "Model:                            OLS   Adj. R-squared:                  0.317\n",
      "Method:                 Least Squares   F-statistic:                     9.809\n",
      "Date:                Thu, 17 Nov 2022   Prob (F-statistic):           2.89e-05\n",
      "Time:                        20:24:06   Log-Likelihood:                 21.567\n",
      "No. Observations:                  58   AIC:                            -35.13\n",
      "Df Residuals:                      54   BIC:                            -26.89\n",
      "Df Model:                           3                                         \n",
      "Covariance Type:            nonrobust                                         \n",
      "==============================================================================\n",
      "                 coef    std err          t      P>|t|      [0.025      0.975]\n",
      "------------------------------------------------------------------------------\n",
      "const          0.0452      0.023      1.969      0.054      -0.001       0.091\n",
      "Mkt-RF         2.2123      0.437      5.057      0.000       1.335       3.089\n",
      "SMB           -0.4487      0.870     -0.516      0.608      -2.193       1.296\n",
      "HML           -0.8719      0.525     -1.662      0.102      -1.924       0.180\n",
      "==============================================================================\n",
      "Omnibus:                        8.027   Durbin-Watson:                   1.803\n",
      "Prob(Omnibus):                  0.018   Jarque-Bera (JB):                7.229\n",
      "Skew:                           0.780   Prob(JB):                       0.0269\n",
      "Kurtosis:                       3.748   Cond. No.                         39.0\n",
      "==============================================================================\n",
      "\n",
      "Notes:\n",
      "[1] Standard Errors assume that the covariance matrix of the errors is correctly specified.\n"
     ]
    }
   ],
   "source": [
    "#Develop a model using the variables defined above\n",
    "ff_model = sm.OLS(y, X).fit()\n",
    "print(ff_model.summary())\n",
    "intercept, b1, b2, b3 = ff_model.params"
   ]
  },
  {
   "cell_type": "code",
   "execution_count": 8,
   "id": "791561f0-63ca-42f7-86f8-782ab004154b",
   "metadata": {},
   "outputs": [],
   "source": [
    "#Redefine values to help calculate the CAPM value\n",
    "x_capm = ff_data[['Mkt-RF']]\n",
    "y_capm = ff_data['Month_Rtn'] - ff_data['RF']\n",
    "X_capm = sm.add_constant(x_capm)"
   ]
  },
  {
   "cell_type": "code",
   "execution_count": 9,
   "id": "fba00b5d-0ab8-4cf3-a358-2a3e65c59184",
   "metadata": {},
   "outputs": [
    {
     "name": "stdout",
     "output_type": "stream",
     "text": [
      "                            OLS Regression Results                            \n",
      "==============================================================================\n",
      "Dep. Variable:                      y   R-squared:                       0.317\n",
      "Model:                            OLS   Adj. R-squared:                  0.305\n",
      "Method:                 Least Squares   F-statistic:                     26.04\n",
      "Date:                Thu, 17 Nov 2022   Prob (F-statistic):           4.14e-06\n",
      "Time:                        20:24:06   Log-Likelihood:                 20.027\n",
      "No. Observations:                  58   AIC:                            -36.05\n",
      "Df Residuals:                      56   BIC:                            -31.93\n",
      "Df Model:                           1                                         \n",
      "Covariance Type:            nonrobust                                         \n",
      "==============================================================================\n",
      "                 coef    std err          t      P>|t|      [0.025      0.975]\n",
      "------------------------------------------------------------------------------\n",
      "const          0.0478      0.023      2.071      0.043       0.002       0.094\n",
      "Mkt-RF         2.1357      0.419      5.103      0.000       1.297       2.974\n",
      "==============================================================================\n",
      "Omnibus:                       11.242   Durbin-Watson:                   1.743\n",
      "Prob(Omnibus):                  0.004   Jarque-Bera (JB):               11.574\n",
      "Skew:                           0.895   Prob(JB):                      0.00307\n",
      "Kurtosis:                       4.259   Cond. No.                         18.3\n",
      "==============================================================================\n",
      "\n",
      "Notes:\n",
      "[1] Standard Errors assume that the covariance matrix of the errors is correctly specified.\n"
     ]
    }
   ],
   "source": [
    "#Run the CAPM calculation to find the intercept, and corresponding betas\n",
    "ff_model_capm = sm.OLS(y_capm, X_capm).fit()\n",
    "print(ff_model_capm.summary())\n",
    "intercept_capm, b1_capm = ff_model_capm.params"
   ]
  },
  {
   "cell_type": "code",
   "execution_count": 10,
   "id": "f66819e0-50cb-435d-a20c-16766e78c776",
   "metadata": {},
   "outputs": [
    {
     "data": {
      "text/plain": [
       "0.047792134572420514"
      ]
     },
     "execution_count": 10,
     "metadata": {},
     "output_type": "execute_result"
    }
   ],
   "source": [
    "intercept_capm"
   ]
  },
  {
   "cell_type": "code",
   "execution_count": 11,
   "id": "929ed4d4-da44-4a2a-a7b0-ff43ef95684b",
   "metadata": {},
   "outputs": [
    {
     "data": {
      "text/plain": [
       "2.135659365694354"
      ]
     },
     "execution_count": 11,
     "metadata": {},
     "output_type": "execute_result"
    }
   ],
   "source": [
    "b1_capm"
   ]
  },
  {
   "cell_type": "code",
   "execution_count": 12,
   "id": "44fd6f71-f4fc-45c0-a74f-8146de6847f0",
   "metadata": {},
   "outputs": [],
   "source": [
    "#Define variables to calculate the expected return using both the CAPM and Fama French\n",
    "mkt_rf = .61\n",
    "hml = .38\n",
    "smb = .25\n",
    "rf = .33"
   ]
  },
  {
   "cell_type": "code",
   "execution_count": 13,
   "id": "eddae08f-7390-447d-8804-f824c098740c",
   "metadata": {},
   "outputs": [
    {
     "data": {
      "text/plain": [
       "0.2145187868325813"
      ]
     },
     "execution_count": 13,
     "metadata": {},
     "output_type": "execute_result"
    }
   ],
   "source": [
    "#Create and run the CAPM expected return calculation using the variables and inputs from above\n",
    "capm_exreturn = rf + (mkt_rf*b1_capm)\n",
    "calc_capm_exreturn = (1+(capm_exreturn/100))**12-1\n",
    "calc_capm_exreturn"
   ]
  },
  {
   "cell_type": "code",
   "execution_count": 14,
   "id": "e25c9ee8-28ab-4b0c-8fc3-a9d97f147ca9",
   "metadata": {},
   "outputs": [
    {
     "name": "stdout",
     "output_type": "stream",
     "text": [
      "Using the CAPM model, our expected rate of return on TSLA is 21.45%.\n"
     ]
    }
   ],
   "source": [
    "# Print results\n",
    "print(f\"Using the CAPM model, our expected rate of return on {ticker} is {round(100*calc_capm_exreturn,2)}%.\")"
   ]
  },
  {
   "cell_type": "code",
   "execution_count": 15,
   "id": "d0648ebc-a698-43ae-aa7d-ee3b8a316a8d",
   "metadata": {},
   "outputs": [
    {
     "data": {
      "text/plain": [
       "0.1588257729299034"
      ]
     },
     "execution_count": 15,
     "metadata": {},
     "output_type": "execute_result"
    }
   ],
   "source": [
    "#Create and run the Fama French expected return calculation using the variables and inputs from above\n",
    "ff_exreturn = rf + (mkt_rf*b1)+(smb*b2)+(hml*b3)\n",
    "calc_ff_exreturn = (1+(ff_exreturn/100))**12-1\n",
    "calc_ff_exreturn"
   ]
  },
  {
   "cell_type": "code",
   "execution_count": 16,
   "id": "f19ad2f8-dd46-4f34-9430-0e896c97e340",
   "metadata": {},
   "outputs": [
    {
     "name": "stdout",
     "output_type": "stream",
     "text": [
      "Using the Fama French 3 Factor model, our expected rate of return on TSLA is 15.88%.\n"
     ]
    }
   ],
   "source": [
    "# Print results\n",
    "print(f\"Using the Fama French 3 Factor model, our expected rate of return on {ticker} is {round(100*calc_ff_exreturn,2)}%.\")"
   ]
  },
  {
   "cell_type": "code",
   "execution_count": 17,
   "id": "38c4bd9a-de09-48de-8416-a759bf07bd76",
   "metadata": {},
   "outputs": [
    {
     "data": {
      "text/plain": [
       "<AxesSubplot:xlabel='Mkt-RF', ylabel='Month_Rtn'>"
      ]
     },
     "execution_count": 17,
     "metadata": {},
     "output_type": "execute_result"
    },
    {
     "data": {
      "image/png": "[encoded data removed]",
      "text/plain": [
       "<Figure size 640x480 with 1 Axes>"
      ]
     },
     "metadata": {},
     "output_type": "display_data"
    }
   ],
   "source": [
    "#Display a regression of the market return agains the chosen stock\n",
    "sns.regplot(data = ff_data, x = 'Mkt-RF', y='Month_Rtn' )"
   ]
  }
 ],
 "metadata": {
  "kernelspec": {
   "display_name": "Python 3 (ipykernel)",
   "language": "python",
   "name": "python3"
  },
  "language_info": {
   "codemirror_mode": {
    "name": "ipython",
    "version": 3
   },
   "file_extension": ".py",
   "mimetype": "text/x-python",
   "name": "python",
   "nbconvert_exporter": "python",
   "pygments_lexer": "ipython3",
   "version": "3.7.15"
  },
  "vscode": {
   "interpreter": {
    "hash": "850e1b3f4705cd2b08db091e9e7e685ea18e6217621a969c2de23b7f90d84028"
   }
  }
 },
 "nbformat": 4,
 "nbformat_minor": 5
}
