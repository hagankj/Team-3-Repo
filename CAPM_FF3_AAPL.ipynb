{
 "cells": [
  {
   "cell_type": "code",
   "execution_count": 53,
   "id": "312e31d7-7e38-42e2-b881-4934faccb8c1",
   "metadata": {
    "tags": []
   },
   "outputs": [],
   "source": [
    "#Import necessary libraries and APIs\n",
    "import pandas as pd\n",
    "import yfinance as yf\n",
    "import statsmodels.api as sm\n",
    "import getFamaFrenchFactors as gff\n",
    "import seaborn as sns "
   ]
  },
  {
   "cell_type": "code",
   "execution_count": 54,
   "id": "387ede43-0e0c-4ba0-9663-0d069a285684",
   "metadata": {
    "tags": []
   },
   "outputs": [],
   "source": [
    "#Narrow search based on ticker symbol and start and end date of the historical data pull\n",
    "ticker = 'AAPL'\n",
    "start = '2017-11-17'\n",
    "end = '2022-11-01'"
   ]
  },
  {
   "cell_type": "code",
   "execution_count": 55,
   "id": "b9b99802-c97b-4b0e-8d0a-5f699673d5c8",
   "metadata": {},
   "outputs": [
    {
     "name": "stdout",
     "output_type": "stream",
     "text": [
      "[*********************100%***********************]  1 of 1 completed\n"
     ]
    },
    {
     "data": {
      "text/html": [
       "<div>\n",
       "<style scoped>\n",
       "    .dataframe tbody tr th:only-of-type {\n",
       "        vertical-align: middle;\n",
       "    }\n",
       "\n",
       "    .dataframe tbody tr th {\n",
       "        vertical-align: top;\n",
       "    }\n",
       "\n",
       "    .dataframe thead th {\n",
       "        text-align: right;\n",
       "    }\n",
       "</style>\n",
       "<table border=\"1\" class=\"dataframe\">\n",
       "  <thead>\n",
       "    <tr style=\"text-align: right;\">\n",
       "      <th></th>\n",
       "      <th>Open</th>\n",
       "      <th>High</th>\n",
       "      <th>Low</th>\n",
       "      <th>Close</th>\n",
       "      <th>Adj Close</th>\n",
       "      <th>Volume</th>\n",
       "    </tr>\n",
       "    <tr>\n",
       "      <th>Date</th>\n",
       "      <th></th>\n",
       "      <th></th>\n",
       "      <th></th>\n",
       "      <th></th>\n",
       "      <th></th>\n",
       "      <th></th>\n",
       "    </tr>\n",
       "  </thead>\n",
       "  <tbody>\n",
       "    <tr>\n",
       "      <th>2017-11-17</th>\n",
       "      <td>42.759998</td>\n",
       "      <td>42.847500</td>\n",
       "      <td>42.410000</td>\n",
       "      <td>42.537498</td>\n",
       "      <td>40.448906</td>\n",
       "      <td>87598000</td>\n",
       "    </tr>\n",
       "    <tr>\n",
       "      <th>2017-11-20</th>\n",
       "      <td>42.572498</td>\n",
       "      <td>42.639999</td>\n",
       "      <td>42.389999</td>\n",
       "      <td>42.494999</td>\n",
       "      <td>40.408482</td>\n",
       "      <td>65049600</td>\n",
       "    </tr>\n",
       "    <tr>\n",
       "      <th>2017-11-21</th>\n",
       "      <td>42.695000</td>\n",
       "      <td>43.424999</td>\n",
       "      <td>42.695000</td>\n",
       "      <td>43.285000</td>\n",
       "      <td>41.159687</td>\n",
       "      <td>100525200</td>\n",
       "    </tr>\n",
       "    <tr>\n",
       "      <th>2017-11-22</th>\n",
       "      <td>43.340000</td>\n",
       "      <td>43.750000</td>\n",
       "      <td>43.262501</td>\n",
       "      <td>43.740002</td>\n",
       "      <td>41.592350</td>\n",
       "      <td>102355600</td>\n",
       "    </tr>\n",
       "    <tr>\n",
       "      <th>2017-11-24</th>\n",
       "      <td>43.775002</td>\n",
       "      <td>43.875000</td>\n",
       "      <td>43.662498</td>\n",
       "      <td>43.742500</td>\n",
       "      <td>41.594727</td>\n",
       "      <td>56106800</td>\n",
       "    </tr>\n",
       "  </tbody>\n",
       "</table>\n",
       "</div>"
      ],
      "text/plain": [
       "                 Open       High        Low      Close  Adj Close     Volume\n",
       "Date                                                                        \n",
       "2017-11-17  42.759998  42.847500  42.410000  42.537498  40.448906   87598000\n",
       "2017-11-20  42.572498  42.639999  42.389999  42.494999  40.408482   65049600\n",
       "2017-11-21  42.695000  43.424999  42.695000  43.285000  41.159687  100525200\n",
       "2017-11-22  43.340000  43.750000  43.262501  43.740002  41.592350  102355600\n",
       "2017-11-24  43.775002  43.875000  43.662498  43.742500  41.594727   56106800"
      ]
     },
     "execution_count": 55,
     "metadata": {},
     "output_type": "execute_result"
    }
   ],
   "source": [
    "#Download the stock data based on the variables outlined above\n",
    "stock_data = yf.download(ticker, start, end, adjusted=True)\n",
    "stock_data.tail()"
   ]
  },
  {
   "cell_type": "code",
   "execution_count": 56,
   "id": "0138a2de-28db-4c01-be74-8163eadcf875",
   "metadata": {},
   "outputs": [
    {
     "data": {
      "text/html": [
       "<div>\n",
       "<style scoped>\n",
       "    .dataframe tbody tr th:only-of-type {\n",
       "        vertical-align: middle;\n",
       "    }\n",
       "\n",
       "    .dataframe tbody tr th {\n",
       "        vertical-align: top;\n",
       "    }\n",
       "\n",
       "    .dataframe thead th {\n",
       "        text-align: right;\n",
       "    }\n",
       "</style>\n",
       "<table border=\"1\" class=\"dataframe\">\n",
       "  <thead>\n",
       "    <tr style=\"text-align: right;\">\n",
       "      <th></th>\n",
       "      <th>Mkt-RF</th>\n",
       "      <th>SMB</th>\n",
       "      <th>HML</th>\n",
       "      <th>RF</th>\n",
       "    </tr>\n",
       "    <tr>\n",
       "      <th>Date</th>\n",
       "      <th></th>\n",
       "      <th></th>\n",
       "      <th></th>\n",
       "      <th></th>\n",
       "    </tr>\n",
       "  </thead>\n",
       "  <tbody>\n",
       "    <tr>\n",
       "      <th>1926-07-31</th>\n",
       "      <td>0.0296</td>\n",
       "      <td>-0.0256</td>\n",
       "      <td>-0.0243</td>\n",
       "      <td>0.0022</td>\n",
       "    </tr>\n",
       "    <tr>\n",
       "      <th>1926-08-31</th>\n",
       "      <td>0.0264</td>\n",
       "      <td>-0.0117</td>\n",
       "      <td>0.0382</td>\n",
       "      <td>0.0025</td>\n",
       "    </tr>\n",
       "    <tr>\n",
       "      <th>1926-09-30</th>\n",
       "      <td>0.0036</td>\n",
       "      <td>-0.0140</td>\n",
       "      <td>0.0013</td>\n",
       "      <td>0.0023</td>\n",
       "    </tr>\n",
       "    <tr>\n",
       "      <th>1926-10-31</th>\n",
       "      <td>-0.0324</td>\n",
       "      <td>-0.0009</td>\n",
       "      <td>0.0070</td>\n",
       "      <td>0.0032</td>\n",
       "    </tr>\n",
       "    <tr>\n",
       "      <th>1926-11-30</th>\n",
       "      <td>0.0253</td>\n",
       "      <td>-0.0010</td>\n",
       "      <td>-0.0051</td>\n",
       "      <td>0.0031</td>\n",
       "    </tr>\n",
       "    <tr>\n",
       "      <th>...</th>\n",
       "      <td>...</td>\n",
       "      <td>...</td>\n",
       "      <td>...</td>\n",
       "      <td>...</td>\n",
       "    </tr>\n",
       "    <tr>\n",
       "      <th>2022-05-31</th>\n",
       "      <td>-0.0034</td>\n",
       "      <td>-0.0185</td>\n",
       "      <td>0.0841</td>\n",
       "      <td>0.0003</td>\n",
       "    </tr>\n",
       "    <tr>\n",
       "      <th>2022-06-30</th>\n",
       "      <td>-0.0843</td>\n",
       "      <td>0.0209</td>\n",
       "      <td>-0.0597</td>\n",
       "      <td>0.0006</td>\n",
       "    </tr>\n",
       "    <tr>\n",
       "      <th>2022-07-31</th>\n",
       "      <td>0.0957</td>\n",
       "      <td>0.0281</td>\n",
       "      <td>-0.0410</td>\n",
       "      <td>0.0008</td>\n",
       "    </tr>\n",
       "    <tr>\n",
       "      <th>2022-08-31</th>\n",
       "      <td>-0.0378</td>\n",
       "      <td>0.0139</td>\n",
       "      <td>0.0031</td>\n",
       "      <td>0.0019</td>\n",
       "    </tr>\n",
       "    <tr>\n",
       "      <th>2022-09-30</th>\n",
       "      <td>-0.0936</td>\n",
       "      <td>-0.0081</td>\n",
       "      <td>0.0005</td>\n",
       "      <td>0.0019</td>\n",
       "    </tr>\n",
       "  </tbody>\n",
       "</table>\n",
       "<p>1155 rows × 4 columns</p>\n",
       "</div>"
      ],
      "text/plain": [
       "            Mkt-RF     SMB     HML      RF\n",
       "Date                                      \n",
       "1926-07-31  0.0296 -0.0256 -0.0243  0.0022\n",
       "1926-08-31  0.0264 -0.0117  0.0382  0.0025\n",
       "1926-09-30  0.0036 -0.0140  0.0013  0.0023\n",
       "1926-10-31 -0.0324 -0.0009  0.0070  0.0032\n",
       "1926-11-30  0.0253 -0.0010 -0.0051  0.0031\n",
       "...            ...     ...     ...     ...\n",
       "2022-05-31 -0.0034 -0.0185  0.0841  0.0003\n",
       "2022-06-30 -0.0843  0.0209 -0.0597  0.0006\n",
       "2022-07-31  0.0957  0.0281 -0.0410  0.0008\n",
       "2022-08-31 -0.0378  0.0139  0.0031  0.0019\n",
       "2022-09-30 -0.0936 -0.0081  0.0005  0.0019\n",
       "\n",
       "[1155 rows x 4 columns]"
      ]
     },
     "execution_count": 56,
     "metadata": {},
     "output_type": "execute_result"
    }
   ],
   "source": [
    "#Run the Fama French library to pull, Mkt-RF (market risk factor), SMB (performance of small cap stocks relative to large cap) and HML (high book to market value stocks compared to low book to market)\n",
    "ff_monthly = gff.famaFrench3Factor(frequency='m')\n",
    "ff_monthly.rename(columns={\"date_ff_factors\": 'Date'}, inplace=True)\n",
    "ff_monthly.set_index('Date', inplace=True)\n",
    "ff_monthly"
   ]
  },
  {
   "cell_type": "code",
   "execution_count": 57,
   "id": "72cb3981-143e-4af0-9697-4142b223982b",
   "metadata": {},
   "outputs": [
    {
     "data": {
      "text/html": [
       "<div>\n",
       "<style scoped>\n",
       "    .dataframe tbody tr th:only-of-type {\n",
       "        vertical-align: middle;\n",
       "    }\n",
       "\n",
       "    .dataframe tbody tr th {\n",
       "        vertical-align: top;\n",
       "    }\n",
       "\n",
       "    .dataframe thead th {\n",
       "        text-align: right;\n",
       "    }\n",
       "</style>\n",
       "<table border=\"1\" class=\"dataframe\">\n",
       "  <thead>\n",
       "    <tr style=\"text-align: right;\">\n",
       "      <th></th>\n",
       "      <th>Mkt-RF</th>\n",
       "      <th>SMB</th>\n",
       "      <th>HML</th>\n",
       "      <th>RF</th>\n",
       "      <th>Month_Rtn</th>\n",
       "    </tr>\n",
       "    <tr>\n",
       "      <th>Date</th>\n",
       "      <th></th>\n",
       "      <th></th>\n",
       "      <th></th>\n",
       "      <th></th>\n",
       "      <th></th>\n",
       "    </tr>\n",
       "  </thead>\n",
       "  <tbody>\n",
       "    <tr>\n",
       "      <th>2022-05-31</th>\n",
       "      <td>-0.0034</td>\n",
       "      <td>-0.0185</td>\n",
       "      <td>0.0841</td>\n",
       "      <td>0.0003</td>\n",
       "      <td>-0.054496</td>\n",
       "    </tr>\n",
       "    <tr>\n",
       "      <th>2022-06-30</th>\n",
       "      <td>-0.0843</td>\n",
       "      <td>0.0209</td>\n",
       "      <td>-0.0597</td>\n",
       "      <td>0.0006</td>\n",
       "      <td>-0.081430</td>\n",
       "    </tr>\n",
       "    <tr>\n",
       "      <th>2022-07-31</th>\n",
       "      <td>0.0957</td>\n",
       "      <td>0.0281</td>\n",
       "      <td>-0.0410</td>\n",
       "      <td>0.0008</td>\n",
       "      <td>0.188634</td>\n",
       "    </tr>\n",
       "    <tr>\n",
       "      <th>2022-08-31</th>\n",
       "      <td>-0.0378</td>\n",
       "      <td>0.0139</td>\n",
       "      <td>0.0031</td>\n",
       "      <td>0.0019</td>\n",
       "      <td>-0.031208</td>\n",
       "    </tr>\n",
       "    <tr>\n",
       "      <th>2022-09-30</th>\n",
       "      <td>-0.0936</td>\n",
       "      <td>-0.0081</td>\n",
       "      <td>0.0005</td>\n",
       "      <td>0.0019</td>\n",
       "      <td>-0.120977</td>\n",
       "    </tr>\n",
       "  </tbody>\n",
       "</table>\n",
       "</div>"
      ],
      "text/plain": [
       "            Mkt-RF     SMB     HML      RF  Month_Rtn\n",
       "Date                                                 \n",
       "2022-05-31 -0.0034 -0.0185  0.0841  0.0003  -0.054496\n",
       "2022-06-30 -0.0843  0.0209 -0.0597  0.0006  -0.081430\n",
       "2022-07-31  0.0957  0.0281 -0.0410  0.0008   0.188634\n",
       "2022-08-31 -0.0378  0.0139  0.0031  0.0019  -0.031208\n",
       "2022-09-30 -0.0936 -0.0081  0.0005  0.0019  -0.120977"
      ]
     },
     "execution_count": 57,
     "metadata": {},
     "output_type": "execute_result"
    }
   ],
   "source": [
    "#Looking just at the adjusted close amounts on a per month basis from the Yahoo Finance pull, look at the percent change in comparison to prior month's data, and drop empty data fields\n",
    "stock_returns = stock_data['Adj Close'].resample('m').last().pct_change().dropna()\n",
    "\n",
    "#Merge stock details with the Fama French details\n",
    "stock_returns.name = \"Month_Rtn\"\n",
    "ff_data = ff_monthly.merge(stock_returns,on='Date')\n",
    "ff_data.tail()"
   ]
  },
  {
   "cell_type": "code",
   "execution_count": null,
   "id": "ad949b01-10a1-46e8-93c0-b2a2f0e607fd",
   "metadata": {},
   "outputs": [],
   "source": [
    "#Define variables required to calculate the beta values\n",
    "X = ff_data[['Mkt-RF', 'SMB', 'HML']]\n",
    "y = ff_data['Month_Rtn'] - ff_data['RF']\n",
    "X = sm.add_constant(X)"
   ]
  },
  {
   "cell_type": "code",
   "execution_count": null,
   "id": "5419c221-4318-4542-9fcf-57bd3c4042a3",
   "metadata": {},
   "outputs": [],
   "source": [
    "#Develop a model using the variables defined above\n",
    "ff_model = sm.OLS(y, X).fit()\n",
    "print(ff_model.summary())\n",
    "intercept, b1, b2, b3 = ff_model.params"
   ]
  },
  {
   "cell_type": "code",
   "execution_count": null,
   "id": "791561f0-63ca-42f7-86f8-782ab004154b",
   "metadata": {},
   "outputs": [],
   "source": [
    "#Redefine values to help calculate the CAPM value\n",
    "x_capm = ff_data[['Mkt-RF']]\n",
    "y_capm = ff_data['Month_Rtn'] - ff_data['RF']\n",
    "X_capm = sm.add_constant(x_capm)"
   ]
  },
  {
   "cell_type": "code",
   "execution_count": null,
   "id": "f72a6880-a07c-4605-8dda-08e3f1901057",
   "metadata": {},
   "outputs": [],
   "source": [
    "#Run the CAPM calculation to find the intercept, and corresponding betas\n",
    "ff_model_capm = sm.OLS(y_capm, X_capm).fit()\n",
    "print(ff_model_capm.summary())\n",
    "intercept_capm, b1_capm = ff_model_capm.params"
   ]
  },
  {
   "cell_type": "code",
   "execution_count": null,
   "id": "f66819e0-50cb-435d-a20c-16766e78c776",
   "metadata": {},
   "outputs": [],
   "source": [
    "intercept_capm"
   ]
  },
  {
   "cell_type": "code",
   "execution_count": null,
   "id": "929ed4d4-da44-4a2a-a7b0-ff43ef95684b",
   "metadata": {},
   "outputs": [],
   "source": [
    "b1_capm"
   ]
  },
  {
   "cell_type": "code",
   "execution_count": null,
   "id": "44fd6f71-f4fc-45c0-a74f-8146de6847f0",
   "metadata": {},
   "outputs": [],
   "source": [
    "#Define variables to calculate the expected return using both the CAPM and Fama French\n",
    "mkt_rf = .61\n",
    "hml = .38\n",
    "smb = .25\n",
    "rf = .33"
   ]
  },
  {
   "cell_type": "code",
   "execution_count": 48,
   "id": "eddae08f-7390-447d-8804-f824c098740c",
   "metadata": {},
   "outputs": [
    {
     "data": {
      "text/plain": [
       "0.13544424624359142"
      ]
     },
     "execution_count": 48,
     "metadata": {},
     "output_type": "execute_result"
    }
   ],
   "source": [
    "#Create and run the CAPM expected return calculation using the variables and inputs from above\n",
    "capm_exreturn = rf + (mkt_rf*b1_capm)\n",
    "calc_capm_exreturn = (1+(capm_exreturn/100))**12-1\n",
    "calc_capm_exreturn"
   ]
  },
  {
   "cell_type": "code",
   "execution_count": 50,
   "id": "c01ea0eb-bb1e-4f9c-913b-532f49bba635",
   "metadata": {},
   "outputs": [
    {
     "name": "stdout",
     "output_type": "stream",
     "text": [
      "Using the CAPM model, our expected rate of return on AAPL is 13.54%.\n"
     ]
    }
   ],
   "source": [
    "# Print results\n",
    "print(f\"Using the CAPM model, our expected rate of return on {ticker} is {round(100*calc_capm_exreturn,2)}%.\")"
   ]
  },
  {
   "cell_type": "code",
   "execution_count": null,
   "id": "d0648ebc-a698-43ae-aa7d-ee3b8a316a8d",
   "metadata": {},
   "outputs": [],
   "source": [
    "#Create and run the Fama French expected return calculation using the variables and inputs from above\n",
    "ff_exreturn = rf + (mkt_rf*b1)+(smb*b2)+(hml*b3)\n",
    "calc_ff_exreturn = (1+(ff_exreturn/100))**12-1\n",
    "calc_ff_exreturn"
   ]
  },
  {
   "cell_type": "code",
   "execution_count": 52,
   "id": "8a9056c2-5f4f-4377-9cbf-863d33734182",
   "metadata": {},
   "outputs": [
    {
     "name": "stdout",
     "output_type": "stream",
     "text": [
      "Using the Fama French 3 Factor model, our expected rate of return on AAPL is 10.48%.\n"
     ]
    }
   ],
   "source": [
    "# Print results\n",
    "print(f\"Using the Fama French 3 Factor model, our expected rate of return on {ticker} is {round(100*calc_ff_exreturn,2)}%.\")"
   ]
  },
  {
   "cell_type": "code",
   "execution_count": null,
   "id": "38c4bd9a-de09-48de-8416-a759bf07bd76",
   "metadata": {},
   "outputs": [],
   "source": [
    "#Display a regression of the market return agains the chosen stock\n",
    "sns.regplot(data = ff_data, x = 'Mkt-RF', y='Month_Rtn' )"
   ]
  },
  {
   "cell_type": "code",
   "execution_count": null,
   "id": "7fd714bc",
   "metadata": {},
   "outputs": [],
   "source": []
  }
 ],
 "metadata": {
  "kernelspec": {
   "display_name": "Python 3 (ipykernel)",
   "language": "python",
   "name": "python3"
  },
  "language_info": {
   "codemirror_mode": {
    "name": "ipython",
    "version": 3
   },
   "file_extension": ".py",
   "mimetype": "text/x-python",
   "name": "python",
   "nbconvert_exporter": "python",
   "pygments_lexer": "ipython3",
   "version": "3.7.15"
  },
  "vscode": {
   "interpreter": {
    "hash": "850e1b3f4705cd2b08db091e9e7e685ea18e6217621a969c2de23b7f90d84028"
   }
  }
 },
 "nbformat": 4,
 "nbformat_minor": 5
}
