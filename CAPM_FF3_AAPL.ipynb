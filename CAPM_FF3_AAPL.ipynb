{
 "cells": [
  {
   "cell_type": "code",
   "execution_count": null,
   "id": "312e31d7-7e38-42e2-b881-4934faccb8c1",
   "metadata": {
    "tags": []
   },
   "outputs": [],
   "source": [
    "import pandas as pd\n",
    "import yfinance as yf\n",
    "import statsmodels.api as sm\n",
    "import getFamaFrenchFactors as gff"
   ]
  },
  {
   "cell_type": "code",
   "execution_count": 58,
   "id": "387ede43-0e0c-4ba0-9663-0d069a285684",
   "metadata": {
    "tags": []
   },
   "outputs": [],
   "source": [
    "ticker = 'AAPL'\n",
    "start = '2017-11-17'\n",
    "end = '2022-11-01'"
   ]
  },
  {
   "cell_type": "code",
   "execution_count": 59,
   "id": "b9b99802-c97b-4b0e-8d0a-5f699673d5c8",
   "metadata": {},
   "outputs": [
    {
     "name": "stdout",
     "output_type": "stream",
     "text": [
      "[*********************100%***********************]  1 of 1 completed\n"
     ]
    },
    {
     "data": {
      "text/html": [
       "<div>\n",
       "<style scoped>\n",
       "    .dataframe tbody tr th:only-of-type {\n",
       "        vertical-align: middle;\n",
       "    }\n",
       "\n",
       "    .dataframe tbody tr th {\n",
       "        vertical-align: top;\n",
       "    }\n",
       "\n",
       "    .dataframe thead th {\n",
       "        text-align: right;\n",
       "    }\n",
       "</style>\n",
       "<table border=\"1\" class=\"dataframe\">\n",
       "  <thead>\n",
       "    <tr style=\"text-align: right;\">\n",
       "      <th></th>\n",
       "      <th>Open</th>\n",
       "      <th>High</th>\n",
       "      <th>Low</th>\n",
       "      <th>Close</th>\n",
       "      <th>Adj Close</th>\n",
       "      <th>Volume</th>\n",
       "    </tr>\n",
       "    <tr>\n",
       "      <th>Date</th>\n",
       "      <th></th>\n",
       "      <th></th>\n",
       "      <th></th>\n",
       "      <th></th>\n",
       "      <th></th>\n",
       "      <th></th>\n",
       "    </tr>\n",
       "  </thead>\n",
       "  <tbody>\n",
       "    <tr>\n",
       "      <th>2017-11-17</th>\n",
       "      <td>42.759998</td>\n",
       "      <td>42.847500</td>\n",
       "      <td>42.410000</td>\n",
       "      <td>42.537498</td>\n",
       "      <td>40.448891</td>\n",
       "      <td>87598000</td>\n",
       "    </tr>\n",
       "    <tr>\n",
       "      <th>2017-11-20</th>\n",
       "      <td>42.572498</td>\n",
       "      <td>42.639999</td>\n",
       "      <td>42.389999</td>\n",
       "      <td>42.494999</td>\n",
       "      <td>40.408489</td>\n",
       "      <td>65049600</td>\n",
       "    </tr>\n",
       "    <tr>\n",
       "      <th>2017-11-21</th>\n",
       "      <td>42.695000</td>\n",
       "      <td>43.424999</td>\n",
       "      <td>42.695000</td>\n",
       "      <td>43.285000</td>\n",
       "      <td>41.159698</td>\n",
       "      <td>100525200</td>\n",
       "    </tr>\n",
       "    <tr>\n",
       "      <th>2017-11-22</th>\n",
       "      <td>43.340000</td>\n",
       "      <td>43.750000</td>\n",
       "      <td>43.262501</td>\n",
       "      <td>43.740002</td>\n",
       "      <td>41.592358</td>\n",
       "      <td>102355600</td>\n",
       "    </tr>\n",
       "    <tr>\n",
       "      <th>2017-11-24</th>\n",
       "      <td>43.775002</td>\n",
       "      <td>43.875000</td>\n",
       "      <td>43.662498</td>\n",
       "      <td>43.742500</td>\n",
       "      <td>41.594730</td>\n",
       "      <td>56106800</td>\n",
       "    </tr>\n",
       "  </tbody>\n",
       "</table>\n",
       "</div>"
      ],
      "text/plain": [
       "                 Open       High        Low      Close  Adj Close     Volume\n",
       "Date                                                                        \n",
       "2017-11-17  42.759998  42.847500  42.410000  42.537498  40.448891   87598000\n",
       "2017-11-20  42.572498  42.639999  42.389999  42.494999  40.408489   65049600\n",
       "2017-11-21  42.695000  43.424999  42.695000  43.285000  41.159698  100525200\n",
       "2017-11-22  43.340000  43.750000  43.262501  43.740002  41.592358  102355600\n",
       "2017-11-24  43.775002  43.875000  43.662498  43.742500  41.594730   56106800"
      ]
     },
     "execution_count": 59,
     "metadata": {},
     "output_type": "execute_result"
    }
   ],
   "source": [
    "stock_data = yf.download(ticker, start, end, adjusted=True)\n",
    "stock_data.head()"
   ]
  },
  {
   "cell_type": "code",
   "execution_count": 60,
   "id": "0138a2de-28db-4c01-be74-8163eadcf875",
   "metadata": {},
   "outputs": [
    {
     "data": {
      "text/html": [
       "<div>\n",
       "<style scoped>\n",
       "    .dataframe tbody tr th:only-of-type {\n",
       "        vertical-align: middle;\n",
       "    }\n",
       "\n",
       "    .dataframe tbody tr th {\n",
       "        vertical-align: top;\n",
       "    }\n",
       "\n",
       "    .dataframe thead th {\n",
       "        text-align: right;\n",
       "    }\n",
       "</style>\n",
       "<table border=\"1\" class=\"dataframe\">\n",
       "  <thead>\n",
       "    <tr style=\"text-align: right;\">\n",
       "      <th></th>\n",
       "      <th>Mkt-RF</th>\n",
       "      <th>SMB</th>\n",
       "      <th>HML</th>\n",
       "      <th>RF</th>\n",
       "    </tr>\n",
       "    <tr>\n",
       "      <th>Date</th>\n",
       "      <th></th>\n",
       "      <th></th>\n",
       "      <th></th>\n",
       "      <th></th>\n",
       "    </tr>\n",
       "  </thead>\n",
       "  <tbody>\n",
       "    <tr>\n",
       "      <th>2022-05-31</th>\n",
       "      <td>-0.0034</td>\n",
       "      <td>-0.0185</td>\n",
       "      <td>0.0841</td>\n",
       "      <td>0.0003</td>\n",
       "    </tr>\n",
       "    <tr>\n",
       "      <th>2022-06-30</th>\n",
       "      <td>-0.0843</td>\n",
       "      <td>0.0209</td>\n",
       "      <td>-0.0597</td>\n",
       "      <td>0.0006</td>\n",
       "    </tr>\n",
       "    <tr>\n",
       "      <th>2022-07-31</th>\n",
       "      <td>0.0957</td>\n",
       "      <td>0.0281</td>\n",
       "      <td>-0.0410</td>\n",
       "      <td>0.0008</td>\n",
       "    </tr>\n",
       "    <tr>\n",
       "      <th>2022-08-31</th>\n",
       "      <td>-0.0378</td>\n",
       "      <td>0.0139</td>\n",
       "      <td>0.0031</td>\n",
       "      <td>0.0019</td>\n",
       "    </tr>\n",
       "    <tr>\n",
       "      <th>2022-09-30</th>\n",
       "      <td>-0.0936</td>\n",
       "      <td>-0.0081</td>\n",
       "      <td>0.0005</td>\n",
       "      <td>0.0019</td>\n",
       "    </tr>\n",
       "  </tbody>\n",
       "</table>\n",
       "</div>"
      ],
      "text/plain": [
       "            Mkt-RF     SMB     HML      RF\n",
       "Date                                      \n",
       "2022-05-31 -0.0034 -0.0185  0.0841  0.0003\n",
       "2022-06-30 -0.0843  0.0209 -0.0597  0.0006\n",
       "2022-07-31  0.0957  0.0281 -0.0410  0.0008\n",
       "2022-08-31 -0.0378  0.0139  0.0031  0.0019\n",
       "2022-09-30 -0.0936 -0.0081  0.0005  0.0019"
      ]
     },
     "execution_count": 60,
     "metadata": {},
     "output_type": "execute_result"
    }
   ],
   "source": [
    "ff_monthly = gff.famaFrench3Factor(frequency='m')\n",
    "ff_monthly.rename(columns={\"date_ff_factors\": 'Date'}, inplace=True)\n",
    "ff_monthly.set_index('Date', inplace=True)\n",
    "ff_monthly.tail()"
   ]
  },
  {
   "cell_type": "code",
   "execution_count": null,
   "id": "72cb3981-143e-4af0-9697-4142b223982b",
   "metadata": {},
   "outputs": [],
   "source": [
    "stock_returns = stock_data['Adj Close'].resample('M').last().pct_change().dropna()\n",
    "stock_returns.name = \"Month_Rtn\"\n",
    "ff_data = ff_monthly.merge(stock_returns,on='Date')\n",
    "ff_data.tail()"
   ]
  },
  {
   "cell_type": "code",
   "execution_count": null,
   "id": "ad949b01-10a1-46e8-93c0-b2a2f0e607fd",
   "metadata": {},
   "outputs": [],
   "source": [
    "X = ff_data[['Mkt-RF', 'SMB', 'HML']]\n",
    "y = ff_data['Month_Rtn'] - ff_data['RF']\n",
    "X = sm.add_constant(X)\n",
    "ff_model = sm.OLS(y, X).fit()\n",
    "print(ff_model.summary())\n",
    "intercept, b1, b2, b3 = ff_model.params"
   ]
  },
  {
   "cell_type": "code",
   "execution_count": 46,
   "id": "791561f0-63ca-42f7-86f8-782ab004154b",
   "metadata": {},
   "outputs": [
    {
     "name": "stdout",
     "output_type": "stream",
     "text": [
      "                            OLS Regression Results                            \n",
      "==============================================================================\n",
      "Dep. Variable:                      y   R-squared:                       0.518\n",
      "Model:                            OLS   Adj. R-squared:                  0.509\n",
      "Method:                 Least Squares   F-statistic:                     60.15\n",
      "Date:                Tue, 15 Nov 2022   Prob (F-statistic):           1.95e-10\n",
      "Time:                        19:43:01   Log-Likelihood:                 77.569\n",
      "No. Observations:                  58   AIC:                            -151.1\n",
      "Df Residuals:                      56   BIC:                            -147.0\n",
      "Df Model:                           1                                         \n",
      "Covariance Type:            nonrobust                                         \n",
      "==============================================================================\n",
      "                 coef    std err          t      P>|t|      [0.025      0.975]\n",
      "------------------------------------------------------------------------------\n",
      "const          0.0161      0.009      1.884      0.065      -0.001       0.033\n",
      "Mkt-RF         1.2035      0.155      7.756      0.000       0.893       1.514\n",
      "==============================================================================\n",
      "Omnibus:                        5.102   Durbin-Watson:                   2.065\n",
      "Prob(Omnibus):                  0.078   Jarque-Bera (JB):                4.689\n",
      "Skew:                          -0.401   Prob(JB):                       0.0959\n",
      "Kurtosis:                       4.138   Cond. No.                         18.3\n",
      "==============================================================================\n",
      "\n",
      "Notes:\n",
      "[1] Standard Errors assume that the covariance matrix of the errors is correctly specified.\n"
     ]
    }
   ],
   "source": [
    "x_capm = ff_data[['Mkt-RF']]\n",
    "y_capm = ff_data['Month_Rtn'] - ff_data['RF']\n",
    "X_capm = sm.add_constant(x_capm)\n",
    "ff_model_capm = sm.OLS(y_capm, X_capm).fit()\n",
    "print(ff_model_capm.summary())\n",
    "intercept_capm, b1_capm = ff_model_capm.params"
   ]
  },
  {
   "cell_type": "code",
   "execution_count": 53,
   "id": "0225cfa5-a1b3-4756-b7bc-17d7c73c9253",
   "metadata": {},
   "outputs": [
    {
     "data": {},
     "metadata": {},
     "output_type": "display_data"
    },
    {
     "data": {
      "application/vnd.holoviews_exec.v0+json": "",
      "text/html": [
       "<div id='1002'>\n",
       "  <div class=\"bk-root\" id=\"46beaac0-54a2-4162-aba5-3eb00f6a76b7\" data-root-id=\"1002\"></div>\n",
       "</div>\n",
       "<script type=\"application/javascript\">(function(root) {\n",
       "  function embed_document(root) {\n",
       "    var docs_json = {\"886f4bed-74b9-44bf-b72a-71386f25fba9\":{\"defs\":[{\"extends\":null,\"module\":null,\"name\":\"ReactiveHTML1\",\"overrides\":[],\"properties\":[]},{\"extends\":null,\"module\":null,\"name\":\"FlexBox1\",\"overrides\":[],\"properties\":[{\"default\":\"flex-start\",\"kind\":null,\"name\":\"align_content\"},{\"default\":\"flex-start\",\"kind\":null,\"name\":\"align_items\"},{\"default\":\"row\",\"kind\":null,\"name\":\"flex_direction\"},{\"default\":\"wrap\",\"kind\":null,\"name\":\"flex_wrap\"},{\"default\":\"flex-start\",\"kind\":null,\"name\":\"justify_content\"}]},{\"extends\":null,\"module\":null,\"name\":\"GridStack1\",\"overrides\":[],\"properties\":[{\"default\":\"warn\",\"kind\":null,\"name\":\"mode\"},{\"default\":null,\"kind\":null,\"name\":\"ncols\"},{\"default\":null,\"kind\":null,\"name\":\"nrows\"},{\"default\":true,\"kind\":null,\"name\":\"allow_resize\"},{\"default\":true,\"kind\":null,\"name\":\"allow_drag\"},{\"default\":[],\"kind\":null,\"name\":\"state\"}]},{\"extends\":null,\"module\":null,\"name\":\"click1\",\"overrides\":[],\"properties\":[{\"default\":\"\",\"kind\":null,\"name\":\"terminal_output\"},{\"default\":\"\",\"kind\":null,\"name\":\"debug_name\"},{\"default\":0,\"kind\":null,\"name\":\"clears\"}]},{\"extends\":null,\"module\":null,\"name\":\"NotificationAreaBase1\",\"overrides\":[],\"properties\":[{\"default\":\"bottom-right\",\"kind\":null,\"name\":\"position\"},{\"default\":0,\"kind\":null,\"name\":\"_clear\"}]},{\"extends\":null,\"module\":null,\"name\":\"NotificationArea1\",\"overrides\":[],\"properties\":[{\"default\":[],\"kind\":null,\"name\":\"notifications\"},{\"default\":\"bottom-right\",\"kind\":null,\"name\":\"position\"},{\"default\":0,\"kind\":null,\"name\":\"_clear\"},{\"default\":[{\"background\":\"#ffc107\",\"icon\":{\"className\":\"fas fa-exclamation-triangle\",\"color\":\"white\",\"tagName\":\"i\"},\"type\":\"warning\"},{\"background\":\"#007bff\",\"icon\":{\"className\":\"fas fa-info-circle\",\"color\":\"white\",\"tagName\":\"i\"},\"type\":\"info\"}],\"kind\":null,\"name\":\"types\"}]},{\"extends\":null,\"module\":null,\"name\":\"Notification\",\"overrides\":[],\"properties\":[{\"default\":null,\"kind\":null,\"name\":\"background\"},{\"default\":3000,\"kind\":null,\"name\":\"duration\"},{\"default\":null,\"kind\":null,\"name\":\"icon\"},{\"default\":\"\",\"kind\":null,\"name\":\"message\"},{\"default\":null,\"kind\":null,\"name\":\"notification_type\"},{\"default\":false,\"kind\":null,\"name\":\"_destroyed\"}]},{\"extends\":null,\"module\":null,\"name\":\"TemplateActions1\",\"overrides\":[],\"properties\":[{\"default\":0,\"kind\":null,\"name\":\"open_modal\"},{\"default\":0,\"kind\":null,\"name\":\"close_modal\"}]},{\"extends\":null,\"module\":null,\"name\":\"MaterialTemplateActions1\",\"overrides\":[],\"properties\":[{\"default\":0,\"kind\":null,\"name\":\"open_modal\"},{\"default\":0,\"kind\":null,\"name\":\"close_modal\"}]}],\"roots\":{\"references\":[{\"attributes\":{},\"id\":\"1021\",\"type\":\"BasicTicker\"},{\"attributes\":{},\"id\":\"1050\",\"type\":\"BasicTickFormatter\"},{\"attributes\":{},\"id\":\"1026\",\"type\":\"WheelZoomTool\"},{\"attributes\":{},\"id\":\"1024\",\"type\":\"SaveTool\"},{\"attributes\":{\"overlay\":{\"id\":\"1029\"}},\"id\":\"1027\",\"type\":\"BoxZoomTool\"},{\"attributes\":{\"children\":[{\"id\":\"1003\"},{\"id\":\"1007\"},{\"id\":\"1062\"}],\"margin\":[0,0,0,0],\"name\":\"Row00863\",\"tags\":[\"embedded\"]},\"id\":\"1002\",\"type\":\"Row\"},{\"attributes\":{},\"id\":\"1028\",\"type\":\"ResetTool\"},{\"attributes\":{\"margin\":[5,5,5,5],\"name\":\"HSpacer00867\",\"sizing_mode\":\"stretch_width\"},\"id\":\"1003\",\"type\":\"Spacer\"},{\"attributes\":{\"callback\":null,\"renderers\":[{\"id\":\"1043\"}],\"tags\":[\"hv_created\"],\"tooltips\":[[\"Mkt-RF\",\"@{Mkt_hyphen_minus_RF}\"],[\"Month_Rtn\",\"@{Month_Rtn}\"]]},\"id\":\"1006\",\"type\":\"HoverTool\"},{\"attributes\":{},\"id\":\"1051\",\"type\":\"AllLabels\"},{\"attributes\":{\"bottom_units\":\"screen\",\"coordinates\":null,\"fill_alpha\":0.5,\"fill_color\":\"lightgrey\",\"group\":null,\"left_units\":\"screen\",\"level\":\"overlay\",\"line_alpha\":1.0,\"line_color\":\"black\",\"line_dash\":[4,4],\"line_width\":2,\"right_units\":\"screen\",\"syncable\":false,\"top_units\":\"screen\"},\"id\":\"1029\",\"type\":\"BoxAnnotation\"},{\"attributes\":{\"fill_alpha\":{\"value\":0.1},\"fill_color\":{\"value\":\"#30a2da\"},\"hatch_alpha\":{\"value\":0.1},\"hatch_color\":{\"value\":\"#30a2da\"},\"line_alpha\":{\"value\":0.1},\"line_color\":{\"value\":\"#30a2da\"},\"size\":{\"value\":5.477225575051661},\"x\":{\"field\":\"Mkt-RF\"},\"y\":{\"field\":\"Month_Rtn\"}},\"id\":\"1041\",\"type\":\"Scatter\"},{\"attributes\":{},\"id\":\"1059\",\"type\":\"UnionRenderers\"},{\"attributes\":{\"coordinates\":null,\"group\":null,\"text_color\":\"black\",\"text_font_size\":\"12pt\"},\"id\":\"1008\",\"type\":\"Title\"},{\"attributes\":{\"tools\":[{\"id\":\"1006\"},{\"id\":\"1024\"},{\"id\":\"1025\"},{\"id\":\"1026\"},{\"id\":\"1027\"},{\"id\":\"1028\"}]},\"id\":\"1030\",\"type\":\"Toolbar\"},{\"attributes\":{\"coordinates\":null,\"data_source\":{\"id\":\"1037\"},\"glyph\":{\"id\":\"1040\"},\"group\":null,\"hover_glyph\":null,\"muted_glyph\":{\"id\":\"1042\"},\"nonselection_glyph\":{\"id\":\"1041\"},\"selection_glyph\":{\"id\":\"1045\"},\"view\":{\"id\":\"1044\"}},\"id\":\"1043\",\"type\":\"GlyphRenderer\"},{\"attributes\":{\"below\":[{\"id\":\"1016\"}],\"center\":[{\"id\":\"1019\"},{\"id\":\"1023\"}],\"height\":300,\"left\":[{\"id\":\"1020\"}],\"margin\":[5,5,5,5],\"min_border_bottom\":10,\"min_border_left\":10,\"min_border_right\":10,\"min_border_top\":10,\"renderers\":[{\"id\":\"1043\"}],\"sizing_mode\":\"fixed\",\"title\":{\"id\":\"1008\"},\"toolbar\":{\"id\":\"1030\"},\"width\":700,\"x_range\":{\"id\":\"1004\"},\"x_scale\":{\"id\":\"1012\"},\"y_range\":{\"id\":\"1005\"},\"y_scale\":{\"id\":\"1014\"}},\"id\":\"1007\",\"subtype\":\"Figure\",\"type\":\"Plot\"},{\"attributes\":{\"end\":0.14808857142857143,\"reset_end\":0.14808857142857143,\"reset_start\":-0.14548857142857144,\"start\":-0.14548857142857144,\"tags\":[[[\"Mkt-RF\",\"Mkt-RF\",null]]]},\"id\":\"1004\",\"type\":\"Range1d\"},{\"attributes\":{\"margin\":[5,5,5,5],\"name\":\"HSpacer00868\",\"sizing_mode\":\"stretch_width\"},\"id\":\"1062\",\"type\":\"Spacer\"},{\"attributes\":{\"angle\":{\"value\":0.0},\"fill_alpha\":{\"value\":1.0},\"fill_color\":{\"value\":\"#30a2da\"},\"hatch_alpha\":{\"value\":1.0},\"hatch_color\":{\"value\":\"#30a2da\"},\"hatch_scale\":{\"value\":12.0},\"hatch_weight\":{\"value\":1.0},\"line_alpha\":{\"value\":1.0},\"line_cap\":{\"value\":\"butt\"},\"line_color\":{\"value\":\"#30a2da\"},\"line_dash\":{\"value\":[]},\"line_dash_offset\":{\"value\":0},\"line_join\":{\"value\":\"bevel\"},\"line_width\":{\"value\":1},\"marker\":{\"value\":\"circle\"},\"size\":{\"value\":5.477225575051661},\"x\":{\"field\":\"Mkt-RF\"},\"y\":{\"field\":\"Month_Rtn\"}},\"id\":\"1045\",\"type\":\"Scatter\"},{\"attributes\":{},\"id\":\"1048\",\"type\":\"AllLabels\"},{\"attributes\":{},\"id\":\"1012\",\"type\":\"LinearScale\"},{\"attributes\":{\"source\":{\"id\":\"1037\"}},\"id\":\"1044\",\"type\":\"CDSView\"},{\"attributes\":{},\"id\":\"1038\",\"type\":\"Selection\"},{\"attributes\":{\"end\":0.2563459810584892,\"reset_end\":0.2563459810584892,\"reset_start\":-0.2209741681839154,\"start\":-0.2209741681839154,\"tags\":[[[\"Month_Rtn\",\"Month_Rtn\",null]]]},\"id\":\"1005\",\"type\":\"Range1d\"},{\"attributes\":{\"data\":{\"Mkt-RF\":{\"__ndarray__\":\"oWez6nO1hT8UP8bctYSsP+Olm8QgsKK/qvHSTWIQmL/IuriNBvBmP4lBYOXQIps/YTJVMCqpcz/aG3xhMlWgPyL99nXgnKE/YTJVMCqpQz9hMlUwKqmzv1ioNc07TpE/yCk6kst/uL8bL90kBoG1P5zEILByaKE/u0kMAiuHhj8Wak3zjlOkP4enV8oyxLG/duCcEaW9sT9zRpT2Bl+IP7N78rBQa5q/DJOpglFJjT8OvjCZKhiVP8bctYR80KM/r5RliGNdnD8vbqMBvAVSv1YwKqkT0LS/bJp3nKIjwb9GtvP91HjBPzbNO07Rkaw/jSjtDb4wmT+zWfW52oqtPw1Pr5RliLM/oImw4emVor8bL90kBoGVv86qz9VW7L8/vw6cM6K0pz9hMlUwKqkzv/KwUGuad5w/0gDeAgmKnz+utmJ/2T2pP+CcEaW9wWc/KVyPwvUonD+mCkYldQKKP1wgQfFjzJ0/Vp+rrdhfpr+gGi/dJAaxP1g5tMh2vo+/WDm0yHa+nz8AAAAAAACwvxdIUPwYc5e/CKwcWmQ7nz8PnDOitDe4v2AHzhlR2mu/TYQNT6+Utb/IKTqSy3+4P5jdk4eFWqO/ZtXnaiv2t78=\",\"dtype\":\"float64\",\"order\":\"little\",\"shape\":[58]},\"Mkt_hyphen_minus_RF\":{\"__ndarray__\":\"oWez6nO1hT8UP8bctYSsP+Olm8QgsKK/qvHSTWIQmL/IuriNBvBmP4lBYOXQIps/YTJVMCqpcz/aG3xhMlWgPyL99nXgnKE/YTJVMCqpQz9hMlUwKqmzv1ioNc07TpE/yCk6kst/uL8bL90kBoG1P5zEILByaKE/u0kMAiuHhj8Wak3zjlOkP4enV8oyxLG/duCcEaW9sT9zRpT2Bl+IP7N78rBQa5q/DJOpglFJjT8OvjCZKhiVP8bctYR80KM/r5RliGNdnD8vbqMBvAVSv1YwKqkT0LS/bJp3nKIjwb9GtvP91HjBPzbNO07Rkaw/jSjtDb4wmT+zWfW52oqtPw1Pr5RliLM/oImw4emVor8bL90kBoGVv86qz9VW7L8/vw6cM6K0pz9hMlUwKqkzv/KwUGuad5w/0gDeAgmKnz+utmJ/2T2pP+CcEaW9wWc/KVyPwvUonD+mCkYldQKKP1wgQfFjzJ0/Vp+rrdhfpr+gGi/dJAaxP1g5tMh2vo+/WDm0yHa+nz8AAAAAAACwvxdIUPwYc5e/CKwcWmQ7nz8PnDOitDe4v2AHzhlR2mu/TYQNT6+Utb/IKTqSy3+4P5jdk4eFWqO/ZtXnaiv2t78=\",\"dtype\":\"float64\",\"order\":\"little\",\"shape\":[58]},\"Month_Rtn\":{\"__ndarray__\":\"gI/8hGI5j79AdQ9qXMiFv9DP51COdLE/IKGVW864rb9AiQXmrcKOv0CsbSq+S8E/wN7nUN9Jg78AZZYtq6ecPyCw0jRwp8k/AN3isCwBgb+gmaBpgjWfv+TY27R6Mce/uI/VaPTfvb/gQgo0Kz2sP2BW/p/u7KY/IF/QDqzWuD+A6FGSKeWsP0iOU6lozL+/IC23Ldu0wD+Qbtg7lo6zP+CXFLJA25C/4FC9rpqtsj/AMfMP01W8P6Ahek2Y2rM/IBxgeeFJuT8AfW94L6erP0BA6aMQXb2/aHYAtePbsb9YBvtASePDP6AHBf++yLU/KM1l2Izdwj9YOkBHCCPFPxBnm/qKuMs/oMeG5So/ur/w99NX5Lmuv/CIWm48crg/UK0lx7JUvT+AKc9t0Ih2v1hNj1EBaLS/AI1tb0oQfj8AeqCQAoOzP1DHBpTE2qm/wFP67TpfuT8g/cJEsKKwP8Df3EcnwaU/wFBludlqsb+glv0ZTwiuP9CH/lel5ro/oOWe+6YAsz8grgOx2RaQv0Ch2qiDrqu/oOanlyZtrT+gsnsfkd24v+BwH3Po5qu/YGsQLJTYtL+Qe7Z9JSXIPyBjk7769J+/cENm2ln4vr8=\",\"dtype\":\"float64\",\"order\":\"little\",\"shape\":[58]}},\"selected\":{\"id\":\"1038\"},\"selection_policy\":{\"id\":\"1059\"}},\"id\":\"1037\",\"type\":\"ColumnDataSource\"},{\"attributes\":{},\"id\":\"1047\",\"type\":\"BasicTickFormatter\"},{\"attributes\":{\"fill_alpha\":{\"value\":0.2},\"fill_color\":{\"value\":\"#30a2da\"},\"hatch_alpha\":{\"value\":0.2},\"hatch_color\":{\"value\":\"#30a2da\"},\"line_alpha\":{\"value\":0.2},\"line_color\":{\"value\":\"#30a2da\"},\"size\":{\"value\":5.477225575051661},\"x\":{\"field\":\"Mkt-RF\"},\"y\":{\"field\":\"Month_Rtn\"}},\"id\":\"1042\",\"type\":\"Scatter\"},{\"attributes\":{},\"id\":\"1017\",\"type\":\"BasicTicker\"},{\"attributes\":{\"fill_color\":{\"value\":\"#30a2da\"},\"hatch_color\":{\"value\":\"#30a2da\"},\"line_color\":{\"value\":\"#30a2da\"},\"size\":{\"value\":5.477225575051661},\"x\":{\"field\":\"Mkt-RF\"},\"y\":{\"field\":\"Month_Rtn\"}},\"id\":\"1040\",\"type\":\"Scatter\"},{\"attributes\":{\"axis_label\":\"Mkt-RF\",\"coordinates\":null,\"formatter\":{\"id\":\"1047\"},\"group\":null,\"major_label_policy\":{\"id\":\"1048\"},\"ticker\":{\"id\":\"1017\"}},\"id\":\"1016\",\"type\":\"LinearAxis\"},{\"attributes\":{\"axis\":{\"id\":\"1016\"},\"coordinates\":null,\"grid_line_color\":null,\"group\":null,\"ticker\":null},\"id\":\"1019\",\"type\":\"Grid\"},{\"attributes\":{},\"id\":\"1025\",\"type\":\"PanTool\"},{\"attributes\":{\"axis_label\":\"Month_Rtn\",\"coordinates\":null,\"formatter\":{\"id\":\"1050\"},\"group\":null,\"major_label_policy\":{\"id\":\"1051\"},\"ticker\":{\"id\":\"1021\"}},\"id\":\"1020\",\"type\":\"LinearAxis\"},{\"attributes\":{\"axis\":{\"id\":\"1020\"},\"coordinates\":null,\"dimension\":1,\"grid_line_color\":null,\"group\":null,\"ticker\":null},\"id\":\"1023\",\"type\":\"Grid\"},{\"attributes\":{},\"id\":\"1014\",\"type\":\"LinearScale\"}],\"root_ids\":[\"1002\"]},\"title\":\"Bokeh Application\",\"version\":\"2.4.3\"}};\n",
       "    var render_items = [{\"docid\":\"886f4bed-74b9-44bf-b72a-71386f25fba9\",\"root_ids\":[\"1002\"],\"roots\":{\"1002\":\"46beaac0-54a2-4162-aba5-3eb00f6a76b7\"}}];\n",
       "    root.Bokeh.embed.embed_items_notebook(docs_json, render_items);\n",
       "    for (const render_item of render_items) {\n",
       "      for (const root_id of render_item.root_ids) {\n",
       "\tconst id_el = document.getElementById(root_id)\n",
       "\tif (id_el.children.length && (id_el.children[0].className === 'bk-root')) {\n",
       "\t  const root_el = id_el.children[0]\n",
       "\t  root_el.id = root_el.id + '-rendered'\n",
       "\t}\n",
       "      }\n",
       "    }\n",
       "  }\n",
       "  if (root.Bokeh !== undefined && root.Bokeh.Panel !== undefined) {\n",
       "    embed_document(root);\n",
       "  } else {\n",
       "    var attempts = 0;\n",
       "    var timer = setInterval(function(root) {\n",
       "      if (root.Bokeh !== undefined && root.Bokeh.Panel !== undefined) {\n",
       "        clearInterval(timer);\n",
       "        embed_document(root);\n",
       "      } else if (document.readyState == \"complete\") {\n",
       "        attempts++;\n",
       "        if (attempts > 200) {\n",
       "          clearInterval(timer);\n",
       "          console.log(\"Bokeh: ERROR: Unable to run BokehJS code because BokehJS library is missing\");\n",
       "        }\n",
       "      }\n",
       "    }, 25, root)\n",
       "  }\n",
       "})(window);</script>"
      ],
      "text/plain": [
       ":Scatter   [Mkt-RF]   (Month_Rtn)"
      ]
     },
     "execution_count": 53,
     "metadata": {
      "application/vnd.holoviews_exec.v0+json": {
       "id": "1002"
      }
     },
     "output_type": "execute_result"
    }
   ],
   "source": [
    "ff_data.hvplot.scatter(x='Mkt-RF' , y='Month_Rtn')"
   ]
  },
  {
   "cell_type": "code",
   "execution_count": 47,
   "id": "f66819e0-50cb-435d-a20c-16766e78c776",
   "metadata": {},
   "outputs": [
    {
     "data": {
      "text/plain": [
       "0.016117270947041667"
      ]
     },
     "execution_count": 47,
     "metadata": {},
     "output_type": "execute_result"
    }
   ],
   "source": [
    "intercept_capm"
   ]
  },
  {
   "cell_type": "code",
   "execution_count": 48,
   "id": "929ed4d4-da44-4a2a-a7b0-ff43ef95684b",
   "metadata": {},
   "outputs": [
    {
     "data": {
      "text/plain": [
       "1.2035339296953675"
      ]
     },
     "execution_count": 48,
     "metadata": {},
     "output_type": "execute_result"
    }
   ],
   "source": [
    "b1_capm"
   ]
  },
  {
   "cell_type": "code",
   "execution_count": 49,
   "id": "44fd6f71-f4fc-45c0-a74f-8146de6847f0",
   "metadata": {},
   "outputs": [],
   "source": [
    "mkt_rf = .61\n",
    "hml = .38\n",
    "smb = .25\n",
    "rf = .33"
   ]
  },
  {
   "cell_type": "code",
   "execution_count": 50,
   "id": "eddae08f-7390-447d-8804-f824c098740c",
   "metadata": {},
   "outputs": [
    {
     "data": {
      "text/plain": [
       "0.1354442788060175"
      ]
     },
     "execution_count": 50,
     "metadata": {},
     "output_type": "execute_result"
    }
   ],
   "source": [
    "capm_exreturn = rf + (mkt_rf*b1_capm)\n",
    "(1+(capm_exreturn/100))**12-1"
   ]
  },
  {
   "cell_type": "code",
   "execution_count": 51,
   "id": "d0648ebc-a698-43ae-aa7d-ee3b8a316a8d",
   "metadata": {},
   "outputs": [
    {
     "data": {
      "text/plain": [
       "0.1048334306477734"
      ]
     },
     "execution_count": 51,
     "metadata": {},
     "output_type": "execute_result"
    }
   ],
   "source": [
    "ff_exreturn = rf + (mkt_rf*b1)+(smb*b2)+(hml*b3)\n",
    "(1+(ff_exreturn/100))**12-1"
   ]
  },
  {
   "cell_type": "code",
   "execution_count": null,
   "id": "38c4bd9a-de09-48de-8416-a759bf07bd76",
   "metadata": {},
   "outputs": [],
   "source": []
  }
 ],
 "metadata": {
  "kernelspec": {
   "display_name": "Python 3 (ipykernel)",
   "language": "python",
   "name": "python3"
  },
  "language_info": {
   "codemirror_mode": {
    "name": "ipython",
    "version": 3
   },
   "file_extension": ".py",
   "mimetype": "text/x-python",
   "name": "python",
   "nbconvert_exporter": "python",
   "pygments_lexer": "ipython3",
   "version": "3.10.6"
  }
 },
 "nbformat": 4,
 "nbformat_minor": 5
}
