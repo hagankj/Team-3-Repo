{
 "cells": [
  {
   "cell_type": "code",
   "execution_count": 31,
   "id": "312e31d7-7e38-42e2-b881-4934faccb8c1",
   "metadata": {
    "tags": []
   },
   "outputs": [],
   "source": [
    "#Import necessary libraries and APIs\n",
    "import pandas as pd\n",
    "import yfinance as yf\n",
    "import statsmodels.api as sm\n",
    "import getFamaFrenchFactors as gff\n",
    "import seaborn as sns "
   ]
  },
  {
   "cell_type": "code",
   "execution_count": 32,
   "id": "387ede43-0e0c-4ba0-9663-0d069a285684",
   "metadata": {
    "tags": []
   },
   "outputs": [],
   "source": [
    "#Narrow search based on ticker symbol and start and end date of the historical data pull\n",
    "ticker = 'ESGU'\n",
    "start = '2017-11-17'\n",
    "end = '2022-11-01'"
   ]
  },
  {
   "cell_type": "code",
   "execution_count": 33,
   "id": "b9b99802-c97b-4b0e-8d0a-5f699673d5c8",
   "metadata": {},
   "outputs": [
    {
     "name": "stdout",
     "output_type": "stream",
     "text": [
      "[*********************100%***********************]  1 of 1 completed\n"
     ]
    },
    {
     "data": {
      "text/html": [
       "<div>\n",
       "<style scoped>\n",
       "    .dataframe tbody tr th:only-of-type {\n",
       "        vertical-align: middle;\n",
       "    }\n",
       "\n",
       "    .dataframe tbody tr th {\n",
       "        vertical-align: top;\n",
       "    }\n",
       "\n",
       "    .dataframe thead th {\n",
       "        text-align: right;\n",
       "    }\n",
       "</style>\n",
       "<table border=\"1\" class=\"dataframe\">\n",
       "  <thead>\n",
       "    <tr style=\"text-align: right;\">\n",
       "      <th></th>\n",
       "      <th>Open</th>\n",
       "      <th>High</th>\n",
       "      <th>Low</th>\n",
       "      <th>Close</th>\n",
       "      <th>Adj Close</th>\n",
       "      <th>Volume</th>\n",
       "    </tr>\n",
       "    <tr>\n",
       "      <th>Date</th>\n",
       "      <th></th>\n",
       "      <th></th>\n",
       "      <th></th>\n",
       "      <th></th>\n",
       "      <th></th>\n",
       "      <th></th>\n",
       "    </tr>\n",
       "  </thead>\n",
       "  <tbody>\n",
       "    <tr>\n",
       "      <th>2017-11-17</th>\n",
       "      <td>56.549999</td>\n",
       "      <td>56.584999</td>\n",
       "      <td>56.442001</td>\n",
       "      <td>56.509998</td>\n",
       "      <td>52.436539</td>\n",
       "      <td>3100</td>\n",
       "    </tr>\n",
       "    <tr>\n",
       "      <th>2017-11-20</th>\n",
       "      <td>56.660000</td>\n",
       "      <td>56.660000</td>\n",
       "      <td>56.509998</td>\n",
       "      <td>56.549999</td>\n",
       "      <td>52.473660</td>\n",
       "      <td>8600</td>\n",
       "    </tr>\n",
       "    <tr>\n",
       "      <th>2017-11-21</th>\n",
       "      <td>56.790001</td>\n",
       "      <td>56.910000</td>\n",
       "      <td>56.750000</td>\n",
       "      <td>56.900002</td>\n",
       "      <td>52.798428</td>\n",
       "      <td>5400</td>\n",
       "    </tr>\n",
       "    <tr>\n",
       "      <th>2017-11-22</th>\n",
       "      <td>56.900002</td>\n",
       "      <td>56.900002</td>\n",
       "      <td>56.834999</td>\n",
       "      <td>56.898998</td>\n",
       "      <td>52.797504</td>\n",
       "      <td>1900</td>\n",
       "    </tr>\n",
       "    <tr>\n",
       "      <th>2017-11-24</th>\n",
       "      <td>56.895000</td>\n",
       "      <td>57.000000</td>\n",
       "      <td>56.881001</td>\n",
       "      <td>57.000000</td>\n",
       "      <td>52.891216</td>\n",
       "      <td>3400</td>\n",
       "    </tr>\n",
       "  </tbody>\n",
       "</table>\n",
       "</div>"
      ],
      "text/plain": [
       "                 Open       High        Low      Close  Adj Close  Volume\n",
       "Date                                                                     \n",
       "2017-11-17  56.549999  56.584999  56.442001  56.509998  52.436539    3100\n",
       "2017-11-20  56.660000  56.660000  56.509998  56.549999  52.473660    8600\n",
       "2017-11-21  56.790001  56.910000  56.750000  56.900002  52.798428    5400\n",
       "2017-11-22  56.900002  56.900002  56.834999  56.898998  52.797504    1900\n",
       "2017-11-24  56.895000  57.000000  56.881001  57.000000  52.891216    3400"
      ]
     },
     "execution_count": 33,
     "metadata": {},
     "output_type": "execute_result"
    }
   ],
   "source": [
    "#Download the stock data based on the variables outlined above\n",
    "stock_data = yf.download(ticker, start, end, adjusted=True)\n",
    "stock_data.head()"
   ]
  },
  {
   "cell_type": "code",
   "execution_count": 34,
   "id": "0138a2de-28db-4c01-be74-8163eadcf875",
   "metadata": {},
   "outputs": [
    {
     "data": {
      "text/html": [
       "<div>\n",
       "<style scoped>\n",
       "    .dataframe tbody tr th:only-of-type {\n",
       "        vertical-align: middle;\n",
       "    }\n",
       "\n",
       "    .dataframe tbody tr th {\n",
       "        vertical-align: top;\n",
       "    }\n",
       "\n",
       "    .dataframe thead th {\n",
       "        text-align: right;\n",
       "    }\n",
       "</style>\n",
       "<table border=\"1\" class=\"dataframe\">\n",
       "  <thead>\n",
       "    <tr style=\"text-align: right;\">\n",
       "      <th></th>\n",
       "      <th>Mkt-RF</th>\n",
       "      <th>SMB</th>\n",
       "      <th>HML</th>\n",
       "      <th>RF</th>\n",
       "    </tr>\n",
       "    <tr>\n",
       "      <th>Date</th>\n",
       "      <th></th>\n",
       "      <th></th>\n",
       "      <th></th>\n",
       "      <th></th>\n",
       "    </tr>\n",
       "  </thead>\n",
       "  <tbody>\n",
       "    <tr>\n",
       "      <th>2022-05-31</th>\n",
       "      <td>-0.0034</td>\n",
       "      <td>-0.0185</td>\n",
       "      <td>0.0841</td>\n",
       "      <td>0.0003</td>\n",
       "    </tr>\n",
       "    <tr>\n",
       "      <th>2022-06-30</th>\n",
       "      <td>-0.0843</td>\n",
       "      <td>0.0209</td>\n",
       "      <td>-0.0597</td>\n",
       "      <td>0.0006</td>\n",
       "    </tr>\n",
       "    <tr>\n",
       "      <th>2022-07-31</th>\n",
       "      <td>0.0957</td>\n",
       "      <td>0.0281</td>\n",
       "      <td>-0.0410</td>\n",
       "      <td>0.0008</td>\n",
       "    </tr>\n",
       "    <tr>\n",
       "      <th>2022-08-31</th>\n",
       "      <td>-0.0378</td>\n",
       "      <td>0.0139</td>\n",
       "      <td>0.0031</td>\n",
       "      <td>0.0019</td>\n",
       "    </tr>\n",
       "    <tr>\n",
       "      <th>2022-09-30</th>\n",
       "      <td>-0.0936</td>\n",
       "      <td>-0.0081</td>\n",
       "      <td>0.0005</td>\n",
       "      <td>0.0019</td>\n",
       "    </tr>\n",
       "  </tbody>\n",
       "</table>\n",
       "</div>"
      ],
      "text/plain": [
       "            Mkt-RF     SMB     HML      RF\n",
       "Date                                      \n",
       "2022-05-31 -0.0034 -0.0185  0.0841  0.0003\n",
       "2022-06-30 -0.0843  0.0209 -0.0597  0.0006\n",
       "2022-07-31  0.0957  0.0281 -0.0410  0.0008\n",
       "2022-08-31 -0.0378  0.0139  0.0031  0.0019\n",
       "2022-09-30 -0.0936 -0.0081  0.0005  0.0019"
      ]
     },
     "execution_count": 34,
     "metadata": {},
     "output_type": "execute_result"
    }
   ],
   "source": [
    "#Run the Fama French library to pull, Mkt-RF (market risk factor), SMB (performance of small cap stocks relative to large cap) and HML (high book to market value stocks compared to low book to market)\n",
    "ff_monthly = gff.famaFrench3Factor(frequency='m')\n",
    "ff_monthly.rename(columns={\"date_ff_factors\": 'Date'}, inplace=True)\n",
    "ff_monthly.set_index('Date', inplace=True)\n",
    "ff_monthly.tail()"
   ]
  },
  {
   "cell_type": "code",
   "execution_count": 35,
   "id": "72cb3981-143e-4af0-9697-4142b223982b",
   "metadata": {},
   "outputs": [
    {
     "data": {
      "text/html": [
       "<div>\n",
       "<style scoped>\n",
       "    .dataframe tbody tr th:only-of-type {\n",
       "        vertical-align: middle;\n",
       "    }\n",
       "\n",
       "    .dataframe tbody tr th {\n",
       "        vertical-align: top;\n",
       "    }\n",
       "\n",
       "    .dataframe thead th {\n",
       "        text-align: right;\n",
       "    }\n",
       "</style>\n",
       "<table border=\"1\" class=\"dataframe\">\n",
       "  <thead>\n",
       "    <tr style=\"text-align: right;\">\n",
       "      <th></th>\n",
       "      <th>Mkt-RF</th>\n",
       "      <th>SMB</th>\n",
       "      <th>HML</th>\n",
       "      <th>RF</th>\n",
       "      <th>Month_Rtn</th>\n",
       "    </tr>\n",
       "    <tr>\n",
       "      <th>Date</th>\n",
       "      <th></th>\n",
       "      <th></th>\n",
       "      <th></th>\n",
       "      <th></th>\n",
       "      <th></th>\n",
       "    </tr>\n",
       "  </thead>\n",
       "  <tbody>\n",
       "    <tr>\n",
       "      <th>2022-05-31</th>\n",
       "      <td>-0.0034</td>\n",
       "      <td>-0.0185</td>\n",
       "      <td>0.0841</td>\n",
       "      <td>0.0003</td>\n",
       "      <td>-0.000978</td>\n",
       "    </tr>\n",
       "    <tr>\n",
       "      <th>2022-06-30</th>\n",
       "      <td>-0.0843</td>\n",
       "      <td>0.0209</td>\n",
       "      <td>-0.0597</td>\n",
       "      <td>0.0006</td>\n",
       "      <td>-0.084496</td>\n",
       "    </tr>\n",
       "    <tr>\n",
       "      <th>2022-07-31</th>\n",
       "      <td>0.0957</td>\n",
       "      <td>0.0281</td>\n",
       "      <td>-0.0410</td>\n",
       "      <td>0.0008</td>\n",
       "      <td>0.095352</td>\n",
       "    </tr>\n",
       "    <tr>\n",
       "      <th>2022-08-31</th>\n",
       "      <td>-0.0378</td>\n",
       "      <td>0.0139</td>\n",
       "      <td>0.0031</td>\n",
       "      <td>0.0019</td>\n",
       "      <td>-0.040261</td>\n",
       "    </tr>\n",
       "    <tr>\n",
       "      <th>2022-09-30</th>\n",
       "      <td>-0.0936</td>\n",
       "      <td>-0.0081</td>\n",
       "      <td>0.0005</td>\n",
       "      <td>0.0019</td>\n",
       "      <td>-0.095308</td>\n",
       "    </tr>\n",
       "  </tbody>\n",
       "</table>\n",
       "</div>"
      ],
      "text/plain": [
       "            Mkt-RF     SMB     HML      RF  Month_Rtn\n",
       "Date                                                 \n",
       "2022-05-31 -0.0034 -0.0185  0.0841  0.0003  -0.000978\n",
       "2022-06-30 -0.0843  0.0209 -0.0597  0.0006  -0.084496\n",
       "2022-07-31  0.0957  0.0281 -0.0410  0.0008   0.095352\n",
       "2022-08-31 -0.0378  0.0139  0.0031  0.0019  -0.040261\n",
       "2022-09-30 -0.0936 -0.0081  0.0005  0.0019  -0.095308"
      ]
     },
     "execution_count": 35,
     "metadata": {},
     "output_type": "execute_result"
    }
   ],
   "source": [
    "#Looking just at the adjusted close amounts on a per month basis from the Yahoo Finance pull, look at the percent change in comparison to prior month's data, and drop empty data fields\n",
    "stock_returns = stock_data['Adj Close'].resample('m').last().pct_change().dropna()\n",
    "\n",
    "#Merge stock details with the Fama French details\n",
    "stock_returns.name = \"Month_Rtn\"\n",
    "ff_data = ff_monthly.merge(stock_returns,on='Date')\n",
    "ff_data.tail()"
   ]
  },
  {
   "cell_type": "code",
   "execution_count": 36,
   "id": "ad949b01-10a1-46e8-93c0-b2a2f0e607fd",
   "metadata": {},
   "outputs": [],
   "source": [
    "#Define variables required to calculate the beta values\n",
    "X = ff_data[['Mkt-RF', 'SMB', 'HML']]\n",
    "y = ff_data['Month_Rtn'] - ff_data['RF']\n",
    "X = sm.add_constant(X)\n"
   ]
  },
  {
   "cell_type": "code",
   "execution_count": 37,
   "id": "134a84bc-b04d-4b34-b3f4-e29f79746ffd",
   "metadata": {},
   "outputs": [
    {
     "name": "stdout",
     "output_type": "stream",
     "text": [
      "                            OLS Regression Results                            \n",
      "==============================================================================\n",
      "Dep. Variable:                      y   R-squared:                       0.996\n",
      "Model:                            OLS   Adj. R-squared:                  0.996\n",
      "Method:                 Least Squares   F-statistic:                     4932.\n",
      "Date:                Thu, 17 Nov 2022   Prob (F-statistic):           8.16e-66\n",
      "Time:                        20:25:38   Log-Likelihood:                 250.24\n",
      "No. Observations:                  58   AIC:                            -492.5\n",
      "Df Residuals:                      54   BIC:                            -484.2\n",
      "Df Model:                           3                                         \n",
      "Covariance Type:            nonrobust                                         \n",
      "==============================================================================\n",
      "                 coef    std err          t      P>|t|      [0.025      0.975]\n",
      "------------------------------------------------------------------------------\n",
      "const          0.0004      0.000      0.797      0.429      -0.001       0.001\n",
      "Mkt-RF         0.9972      0.008    117.499      0.000       0.980       1.014\n",
      "SMB           -0.1238      0.017     -7.334      0.000      -0.158      -0.090\n",
      "HML           -0.0030      0.010     -0.293      0.771      -0.023       0.017\n",
      "==============================================================================\n",
      "Omnibus:                        0.505   Durbin-Watson:                   2.482\n",
      "Prob(Omnibus):                  0.777   Jarque-Bera (JB):                0.433\n",
      "Skew:                           0.203   Prob(JB):                        0.805\n",
      "Kurtosis:                       2.878   Cond. No.                         39.0\n",
      "==============================================================================\n",
      "\n",
      "Notes:\n",
      "[1] Standard Errors assume that the covariance matrix of the errors is correctly specified.\n"
     ]
    }
   ],
   "source": [
    "#Develop a model using the variables defined above\n",
    "ff_model = sm.OLS(y, X).fit()\n",
    "print(ff_model.summary())\n",
    "intercept, b1, b2, b3 = ff_model.params"
   ]
  },
  {
   "cell_type": "code",
   "execution_count": 38,
   "id": "791561f0-63ca-42f7-86f8-782ab004154b",
   "metadata": {},
   "outputs": [],
   "source": [
    "#Redefine values to help calculate the CAPM value\n",
    "x_capm = ff_data[['Mkt-RF']]\n",
    "y_capm = ff_data['Month_Rtn'] - ff_data['RF']\n",
    "X_capm = sm.add_constant(x_capm)\n"
   ]
  },
  {
   "cell_type": "code",
   "execution_count": 39,
   "id": "e0a58a96-f6c4-4cd6-86b3-4a8837cd2e7a",
   "metadata": {},
   "outputs": [
    {
     "name": "stdout",
     "output_type": "stream",
     "text": [
      "                            OLS Regression Results                            \n",
      "==============================================================================\n",
      "Dep. Variable:                      y   R-squared:                       0.993\n",
      "Model:                            OLS   Adj. R-squared:                  0.993\n",
      "Method:                 Least Squares   F-statistic:                     7658.\n",
      "Date:                Thu, 17 Nov 2022   Prob (F-statistic):           1.36e-61\n",
      "Time:                        20:25:39   Log-Likelihood:                 230.19\n",
      "No. Observations:                  58   AIC:                            -456.4\n",
      "Df Residuals:                      56   BIC:                            -452.3\n",
      "Df Model:                           1                                         \n",
      "Covariance Type:            nonrobust                                         \n",
      "==============================================================================\n",
      "                 coef    std err          t      P>|t|      [0.025      0.975]\n",
      "------------------------------------------------------------------------------\n",
      "const          0.0005      0.001      0.866      0.390      -0.001       0.002\n",
      "Mkt-RF         0.9775      0.011     87.511      0.000       0.955       1.000\n",
      "==============================================================================\n",
      "Omnibus:                        0.620   Durbin-Watson:                   2.155\n",
      "Prob(Omnibus):                  0.733   Jarque-Bera (JB):                0.623\n",
      "Skew:                          -0.232   Prob(JB):                        0.732\n",
      "Kurtosis:                       2.794   Cond. No.                         18.3\n",
      "==============================================================================\n",
      "\n",
      "Notes:\n",
      "[1] Standard Errors assume that the covariance matrix of the errors is correctly specified.\n"
     ]
    }
   ],
   "source": [
    "#Run the CAPM calculation to find the intercept, and corresponding betas\n",
    "ff_model_capm = sm.OLS(y_capm, X_capm).fit()\n",
    "print(ff_model_capm.summary())\n",
    "intercept_capm, b1_capm = ff_model_capm.params"
   ]
  },
  {
   "cell_type": "code",
   "execution_count": 40,
   "id": "44fd6f71-f4fc-45c0-a74f-8146de6847f0",
   "metadata": {},
   "outputs": [],
   "source": [
    "#Define variables to calculate the expected return using both the CAPM and Fama French\n",
    "mkt_rf = .61\n",
    "hml = .38\n",
    "smb = .25\n",
    "rf = .33"
   ]
  },
  {
   "cell_type": "code",
   "execution_count": 41,
   "id": "eddae08f-7390-447d-8804-f824c098740c",
   "metadata": {},
   "outputs": [
    {
     "data": {
      "text/plain": [
       "0.11699286525452202"
      ]
     },
     "execution_count": 41,
     "metadata": {},
     "output_type": "execute_result"
    }
   ],
   "source": [
    "#Create and run the CAPM expected return calculation using the variables and inputs from above\n",
    "capm_exreturn = rf + (mkt_rf*b1_capm)\n",
    "calc_capm_exreturn = (1+(capm_exreturn/100))**12-1\n",
    "calc_capm_exreturn"
   ]
  },
  {
   "cell_type": "code",
   "execution_count": 42,
   "id": "f2d3fd38-9d92-4fd4-af69-4367a81067b1",
   "metadata": {},
   "outputs": [
    {
     "name": "stdout",
     "output_type": "stream",
     "text": [
      "Using the CAPM model, our expected rate of return on ESGU is 11.7%.\n"
     ]
    }
   ],
   "source": [
    "# Print results\n",
    "print(f\"Using the CAPM model, our expected rate of return on {ticker} is {round(100*calc_capm_exreturn,2)}%.\")"
   ]
  },
  {
   "cell_type": "code",
   "execution_count": 43,
   "id": "d0648ebc-a698-43ae-aa7d-ee3b8a316a8d",
   "metadata": {},
   "outputs": [
    {
     "data": {
      "text/plain": [
       "0.11432913614310336"
      ]
     },
     "execution_count": 43,
     "metadata": {},
     "output_type": "execute_result"
    }
   ],
   "source": [
    "#Create and run the Fama French expected return calculation using the variables and inputs from above\n",
    "ff_exreturn = rf + (mkt_rf*b1)+(smb*b2)+(hml*b3)\n",
    "calc_ff_exreturn = (1+(ff_exreturn/100))**12-1\n",
    "calc_ff_exreturn"
   ]
  },
  {
   "cell_type": "code",
   "execution_count": 44,
   "id": "bfb2f15e-cfc6-4f20-be4d-406b885ee715",
   "metadata": {},
   "outputs": [
    {
     "name": "stdout",
     "output_type": "stream",
     "text": [
      "Using the Fama French 3 Factor model, our expected rate of return on ESGU is 11.43%.\n"
     ]
    }
   ],
   "source": [
    "# Print results\n",
    "print(f\"Using the Fama French 3 Factor model, our expected rate of return on {ticker} is {round(100*calc_ff_exreturn,2)}%.\")"
   ]
  },
  {
   "cell_type": "code",
   "execution_count": 45,
   "id": "38c4bd9a-de09-48de-8416-a759bf07bd76",
   "metadata": {},
   "outputs": [
    {
     "data": {
      "text/plain": [
       "<AxesSubplot:xlabel='Mkt-RF', ylabel='Month_Rtn'>"
      ]
     },
     "execution_count": 45,
     "metadata": {},
     "output_type": "execute_result"
    },
    {
     "data": {
      "image/png": "[encoded data removed]",
      "text/plain": [
       "<Figure size 640x480 with 1 Axes>"
      ]
     },
     "metadata": {},
     "output_type": "display_data"
    }
   ],
   "source": [
    "#Display a regression of the market return agains the chosen stock\n",
    "sns.regplot(data = ff_data, x = 'Mkt-RF', y='Month_Rtn' )"
   ]
  }
 ],
 "metadata": {
  "kernelspec": {
   "display_name": "Python 3 (ipykernel)",
   "language": "python",
   "name": "python3"
  },
  "language_info": {
   "codemirror_mode": {
    "name": "ipython",
    "version": 3
   },
   "file_extension": ".py",
   "mimetype": "text/x-python",
   "name": "python",
   "nbconvert_exporter": "python",
   "pygments_lexer": "ipython3",
   "version": "3.7.15"
  },
  "vscode": {
   "interpreter": {
    "hash": "850e1b3f4705cd2b08db091e9e7e685ea18e6217621a969c2de23b7f90d84028"
   }
  }
 },
 "nbformat": 4,
 "nbformat_minor": 5
}
