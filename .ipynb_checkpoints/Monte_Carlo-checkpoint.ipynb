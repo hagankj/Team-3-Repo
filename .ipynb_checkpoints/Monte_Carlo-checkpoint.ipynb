{
 "cells": [
  {
   "cell_type": "code",
   "execution_count": null,
   "metadata": {},
   "outputs": [],
   "source": [
    "# Import dependencies\n",
    "import os\n",
    "import requests\n",
    "import pandas as pd\n",
    "import alpaca_trade_api as tradeapi\n",
    "\n",
    "%matplotlib inline"
   ]
  },
  {
   "cell_type": "code",
   "execution_count": null,
   "metadata": {},
   "outputs": [],
   "source": [
    "# Load .env variables\n",
    "from dotenv import load_dotenv\n",
    "load_dotenv()"
   ]
  },
  {
   "cell_type": "markdown",
   "metadata": {},
   "source": [
    "- Alpaca api data:"
   ]
  },
  {
   "cell_type": "code",
   "execution_count": null,
   "metadata": {},
   "outputs": [],
   "source": [
    "# Set Alpaca API key and secret\n",
    "alpaca_api_key = os.getenv(\"ALPACA_API_KEY\")\n",
    "alpaca_secret_key = os.getenv(\"ALPACA_SECRET_KEY\")\n",
    "\n",
    "# Create the Alpaca API object\n",
    "api = tradeapi.REST(\n",
    "    alpaca_api_key,\n",
    "    alpaca_secret_key,\n",
    "    api_version = \"v2\"\n",
    ")"
   ]
  },
  {
   "cell_type": "code",
   "execution_count": null,
   "metadata": {},
   "outputs": [],
   "source": [
    "# Set timeframe to \"1Day\"\n",
    "timeframe = \"1Day\"\n",
    "\n",
    "# Set start and end datetimes (5 years)\n",
    "start_date = pd.Timestamp(\"2017-11-17\", tz=\"America/New_York\").isoformat()\n",
    "end_date = pd.Timestamp(\"2022-11-01\", tz=\"America/New_York\").isoformat()\n",
    "\n",
    "# ticker information\n",
    "tickers = [\"TSLA\",\"SPY\",\"XEL\",\"AAPL\",\"ESGU\"]\n"
   ]
  },
  {
   "cell_type": "code",
   "execution_count": null,
   "metadata": {},
   "outputs": [],
   "source": [
    "# Get 5 year's worth of historical price data\n",
    "df_ticker = api.get_bars(\n",
    "    tickers,\n",
    "    timeframe,\n",
    "    start=start_date,\n",
    "    end=end_date\n",
    ").df\n",
    "\n",
    "# set date as index\n",
    "df_ticker.index = df_ticker.index.date\n",
    "\n",
    "# sample data\n",
    "df_ticker.head()"
   ]
  },
  {
   "cell_type": "code",
   "execution_count": null,
   "metadata": {},
   "outputs": [],
   "source": [
    "# drop 'symbol' column for each ticker\n",
    "TSLA = df_ticker[df_ticker['symbol']=='TSLA'].drop('symbol', axis = 1)\n",
    "SPY = df_ticker[df_ticker['symbol']=='SPY'].drop('symbol', axis = 1)\n",
    "XEL = df_ticker[df_ticker['symbol']=='XEL'].drop('symbol', axis = 1)\n",
    "AAPL = df_ticker[df_ticker['symbol']=='AAPL'].drop('symbol', axis = 1)\n",
    "ESGU = df_ticker[df_ticker['symbol']=='ESGU'].drop('symbol', axis = 1)\n"
   ]
  },
  {
   "cell_type": "code",
   "execution_count": null,
   "metadata": {},
   "outputs": [],
   "source": [
    "# concat ticker columns together\n",
    "df_ticker = pd.concat([TSLA, SPY, XEL, AAPL, ESGU],axis=1, keys=['TSLA','SPY','XEL','AAPL','ESGU'])\n",
    "df_ticker.tail()"
   ]
  },
  {
   "cell_type": "code",
   "execution_count": null,
   "metadata": {},
   "outputs": [],
   "source": [
    "# close price only\n",
    "df_close = pd.DataFrame()\n",
    "df_close[\"TSLA\"] = df_ticker[\"TSLA\"][\"close\"]\n",
    "df_close[\"SPY\"] = df_ticker[\"SPY\"][\"close\"]\n",
    "df_close[\"XEL\"] = df_ticker[\"XEL\"][\"close\"]\n",
    "df_close[\"AAPL\"] = df_ticker[\"AAPL\"][\"close\"]\n",
    "df_close[\"ESGU\"] = df_ticker[\"ESGU\"][\"close\"]\n",
    "df_close\n"
   ]
  },
  {
   "cell_type": "code",
   "execution_count": null,
   "metadata": {},
   "outputs": [],
   "source": [
    "# percent change and drop nulls\n",
    "df_pct_change = df_close.pct_change().dropna()\n",
    "df_pct_change"
   ]
  },
  {
   "cell_type": "markdown",
   "metadata": {},
   "source": [
    "- MC simulation"
   ]
  },
  {
   "cell_type": "code",
   "execution_count": null,
   "metadata": {},
   "outputs": [],
   "source": [
    "from MCForecastTools import MCSimulation"
   ]
  },
  {
   "cell_type": "code",
   "execution_count": null,
   "metadata": {},
   "outputs": [],
   "source": [
    "# configuring a Monte Carlo simulation to forecast 10 years cumulative returns (from df_ticker)\n",
    "MC_1 = MCSimulation(\n",
    "    portfolio_data = df_ticker,\n",
    "    weights = [.2,.2,.2,.2,.2],\n",
    "    num_simulation = 100,\n",
    "    num_trading_days = 252*10)"
   ]
  },
  {
   "cell_type": "code",
   "execution_count": null,
   "metadata": {},
   "outputs": [],
   "source": [
    "# display the data\n",
    "MC_1.portfolio_data.head()"
   ]
  },
  {
   "cell_type": "code",
   "execution_count": null,
   "metadata": {},
   "outputs": [],
   "source": [
    "# run simulation\n",
    "MC_1.calc_cumulative_return()"
   ]
  },
  {
   "cell_type": "code",
   "execution_count": null,
   "metadata": {},
   "outputs": [],
   "source": [
    "# plot simulation\n",
    "line_plot = MC_1.plot_simulation()"
   ]
  },
  {
   "cell_type": "code",
   "execution_count": null,
   "metadata": {},
   "outputs": [],
   "source": [
    "# Plot probability distribution and confidence intervals\n",
    "dist_plot = MC_1.plot_distribution()"
   ]
  },
  {
   "cell_type": "code",
   "execution_count": null,
   "metadata": {},
   "outputs": [],
   "source": [
    "# Summary statistics from the Monte Carlo simulation results\n",
    "tbl_ = MC_1.summarize_cumulative_return()\n",
    "\n",
    "print(tbl_)"
   ]
  },
  {
   "cell_type": "code",
   "execution_count": null,
   "metadata": {},
   "outputs": [],
   "source": [
    "# Initial investment\n",
    "initial_investment = 100000\n",
    "\n",
    "# Lower and upper `95%` confidence intervals\n",
    "ci_lower = round(tbl_[8]*initial_investment,2)\n",
    "ci_upper = round(tbl_[9]*initial_investment,2)\n",
    "\n",
    "# Print results\n",
    "print(f\"There is a 95% chance that an initial investment of ${initial_investment}\"\n",
    "      f\" over the next 10 years will end within the range of\"\n",
    "      f\" ${ci_lower} and ${ci_upper}\")\n",
    "\n"
   ]
  },
  {
   "cell_type": "markdown",
   "metadata": {},
   "source": [
    "- TSLA Monte Carlo"
   ]
  },
  {
   "cell_type": "code",
   "execution_count": null,
   "metadata": {},
   "outputs": [],
   "source": [
    "MC_TSLA = MCSimulation(\n",
    "    portfolio_data = df_ticker,\n",
    "    weights = [1,0,0,0,0],\n",
    "    num_simulation = 100,\n",
    "    num_trading_days = 252*10)"
   ]
  },
  {
   "cell_type": "code",
   "execution_count": null,
   "metadata": {},
   "outputs": [],
   "source": [
    "MC_TSLA.portfolio_data.head()"
   ]
  },
  {
   "cell_type": "code",
   "execution_count": null,
   "metadata": {},
   "outputs": [],
   "source": [
    "# run simulation\n",
    "MC_TSLA.calc_cumulative_return()"
   ]
  },
  {
   "cell_type": "code",
   "execution_count": null,
   "metadata": {},
   "outputs": [],
   "source": [
    "# plot simulation\n",
    "line_plot = MC_TSLA.plot_simulation()"
   ]
  },
  {
   "cell_type": "code",
   "execution_count": null,
   "metadata": {},
   "outputs": [],
   "source": [
    "# Plot probability distribution and confidence intervals\n",
    "dist_plot = MC_TSLA.plot_distribution()"
   ]
  },
  {
   "cell_type": "code",
   "execution_count": null,
   "metadata": {},
   "outputs": [],
   "source": [
    "# Summary statistics from the Monte Carlo simulation results\n",
    "tbl_TSLA = MC_TSLA.summarize_cumulative_return()\n",
    "\n",
    "print(tbl_TSLA)"
   ]
  },
  {
   "cell_type": "code",
   "execution_count": null,
   "metadata": {},
   "outputs": [],
   "source": [
    "# Initial investment\n",
    "initial_investment_TSLA = 100000\n",
    "\n",
    "# Lower and upper `95%` confidence intervals\n",
    "ci_lower_TSLA = round(tbl_TSLA[8]*initial_investment_TSLA,2)\n",
    "ci_upper_TSLA = round(tbl_TSLA[9]*initial_investment_TSLA,2)"
   ]
  },
  {
   "cell_type": "code",
   "execution_count": null,
   "metadata": {},
   "outputs": [],
   "source": [
    "# Print results\n",
    "print(f\"There is a 95% chance that an initial investment of ${initial_investment_TSLA}\"\n",
    "      f\" over the next 10 years will end within the range of\"\n",
    "      f\" ${ci_lower_TSLA} and ${ci_upper_TSLA}\")"
   ]
  },
  {
   "cell_type": "markdown",
   "metadata": {},
   "source": [
    "- SPY Monte Carlo"
   ]
  },
  {
   "cell_type": "code",
   "execution_count": null,
   "metadata": {},
   "outputs": [],
   "source": [
    "MC_SPY = MCSimulation(\n",
    "    portfolio_data = df_ticker,\n",
    "    weights = [0,1,0,0,0],\n",
    "    num_simulation = 100,\n",
    "    num_trading_days = 252*10)"
   ]
  },
  {
   "cell_type": "code",
   "execution_count": null,
   "metadata": {},
   "outputs": [],
   "source": [
    "MC_SPY.portfolio_data.head()"
   ]
  },
  {
   "cell_type": "code",
   "execution_count": null,
   "metadata": {},
   "outputs": [],
   "source": [
    "# run simulation\n",
    "MC_SPY.calc_cumulative_return()"
   ]
  },
  {
   "cell_type": "code",
   "execution_count": null,
   "metadata": {},
   "outputs": [],
   "source": [
    "# plot simulation\n",
    "line_plot = MC_SPY.plot_simulation()"
   ]
  },
  {
   "cell_type": "code",
   "execution_count": null,
   "metadata": {},
   "outputs": [],
   "source": [
    "# Plot probability distribution and confidence intervals\n",
    "dist_plot = MC_SPY.plot_distribution()"
   ]
  },
  {
   "cell_type": "code",
   "execution_count": null,
   "metadata": {},
   "outputs": [],
   "source": [
    "# Summary statistics from the Monte Carlo simulation results\n",
    "tbl_SPY = MC_SPY.summarize_cumulative_return()\n",
    "\n",
    "print(tbl_SPY)"
   ]
  },
  {
   "cell_type": "code",
   "execution_count": null,
   "metadata": {},
   "outputs": [],
   "source": [
    "# Initial investment\n",
    "initial_investment_SPY = 100000\n",
    "\n",
    "# Lower and upper `95%` confidence intervals\n",
    "ci_lower_SPY = round(tbl_SPY[8]*initial_investment_SPY,2)\n",
    "ci_upper_SPY = round(tbl_SPY[9]*initial_investment_SPY,2)"
   ]
  },
  {
   "cell_type": "code",
   "execution_count": null,
   "metadata": {},
   "outputs": [],
   "source": [
    "# Print results\n",
    "print(f\"There is a 95% chance that an initial investment of ${initial_investment_SPY}\"\n",
    "      f\" over the next 10 years will end within the range of\"\n",
    "      f\" ${ci_lower_SPY} and ${ci_upper_SPY}\")"
   ]
  },
  {
   "cell_type": "markdown",
   "metadata": {},
   "source": [
    "- XEL Monte Carlo"
   ]
  },
  {
   "cell_type": "code",
   "execution_count": null,
   "metadata": {},
   "outputs": [],
   "source": [
    "MC_XEL = MCSimulation(\n",
    "    portfolio_data = df_ticker,\n",
    "    weights = [0,0,1,0,0],\n",
    "    num_simulation = 100,\n",
    "    num_trading_days = 252*10)"
   ]
  },
  {
   "cell_type": "code",
   "execution_count": null,
   "metadata": {},
   "outputs": [],
   "source": [
    "MC_XEL.portfolio_data.head()"
   ]
  },
  {
   "cell_type": "code",
   "execution_count": null,
   "metadata": {},
   "outputs": [],
   "source": [
    "# run simulation\n",
    "MC_XEL.calc_cumulative_return()"
   ]
  },
  {
   "cell_type": "code",
   "execution_count": null,
   "metadata": {
    "collapsed": true,
    "jupyter": {
     "outputs_hidden": true
    },
    "tags": []
   },
   "outputs": [],
   "source": [
    "# plot simulation\n",
    "line_plot = MC_XEL.plot_simulation()"
   ]
  },
  {
   "cell_type": "code",
   "execution_count": null,
   "metadata": {},
   "outputs": [],
   "source": [
    "# Plot probability distribution and confidence intervals\n",
    "dist_plot = MC_XEL.plot_distribution()"
   ]
  },
  {
   "cell_type": "code",
   "execution_count": null,
   "metadata": {},
   "outputs": [],
   "source": [
    "# Summary statistics from the Monte Carlo simulation results\n",
    "tbl_XEL = MC_XEL.summarize_cumulative_return()\n",
    "\n",
    "print(tbl_XEL)"
   ]
  },
  {
   "cell_type": "code",
   "execution_count": null,
   "metadata": {},
   "outputs": [],
   "source": [
    "# Initial investment\n",
    "initial_investment_XEL = 100000\n",
    "\n",
    "# Lower and upper `95%` confidence intervals\n",
    "ci_lower_XEL = round(tbl_XEL[8]*initial_investment_XEL,2)\n",
    "ci_upper_XEL = round(tbl_XEL[9]*initial_investment_XEL,2)"
   ]
  },
  {
   "cell_type": "code",
   "execution_count": null,
   "metadata": {},
   "outputs": [],
   "source": [
    "print(f\"There is a 95% chance that an initial investment of ${initial_investment_XEL}\"\n",
    "      f\" over the next 10 years will end within the range of\"\n",
    "      f\" ${ci_lower_XEL} and ${ci_upper_XEL}\")"
   ]
  },
  {
   "cell_type": "markdown",
   "metadata": {},
   "source": [
    "- AAPL Monte Carlo"
   ]
  },
  {
   "cell_type": "code",
   "execution_count": null,
   "metadata": {},
   "outputs": [],
   "source": [
    "MC_AAPL = MCSimulation(\n",
    "    portfolio_data = df_ticker,\n",
    "    weights = [0,0,0,1,0],\n",
    "    num_simulation = 100,\n",
    "    num_trading_days = 252*10)"
   ]
  },
  {
   "cell_type": "code",
   "execution_count": null,
   "metadata": {},
   "outputs": [],
   "source": [
    "MC_AAPL.portfolio_data.head()"
   ]
  },
  {
   "cell_type": "code",
   "execution_count": null,
   "metadata": {},
   "outputs": [],
   "source": [
    "# run simulation\n",
    "MC_AAPL.calc_cumulative_return()"
   ]
  },
  {
   "cell_type": "code",
   "execution_count": null,
   "metadata": {},
   "outputs": [],
   "source": [
    "# plot simulation\n",
    "line_plot = MC_AAPL.plot_simulation()"
   ]
  },
  {
   "cell_type": "code",
   "execution_count": null,
   "metadata": {},
   "outputs": [],
   "source": [
    "# Plot probability distribution and confidence intervals\n",
    "dist_plot = MC_AAPL.plot_distribution()"
   ]
  },
  {
   "cell_type": "code",
   "execution_count": null,
   "metadata": {},
   "outputs": [],
   "source": [
    "# Summary statistics from the Monte Carlo simulation results\n",
    "tbl_AAPL = MC_AAPL.summarize_cumulative_return()\n",
    "\n",
    "print(tbl_AAPL)"
   ]
  },
  {
   "cell_type": "code",
   "execution_count": null,
   "metadata": {},
   "outputs": [],
   "source": [
    "# Initial investment\n",
    "initial_investment_AAPL = 100000\n",
    "\n",
    "# Lower and upper `95%` confidence intervals\n",
    "ci_lower_AAPL = round(tbl_AAPL[8]*initial_investment_AAPL,2)\n",
    "ci_upper_AAPL = round(tbl_AAPL[9]*initial_investment_AAPL,2)"
   ]
  },
  {
   "cell_type": "code",
   "execution_count": null,
   "metadata": {},
   "outputs": [],
   "source": [
    "print(f\"There is a 95% chance that an initial investment of ${initial_investment_AAPL}\"\n",
    "      f\" over the next 10 years will end within the range of\"\n",
    "      f\" ${ci_lower_AAPL} and ${ci_upper_AAPL}\")"
   ]
  },
  {
   "cell_type": "markdown",
   "metadata": {},
   "source": [
    "- ESGU Monte Carlo"
   ]
  },
  {
   "cell_type": "code",
   "execution_count": null,
   "metadata": {},
   "outputs": [],
   "source": [
    "MC_ESGU = MCSimulation(\n",
    "    portfolio_data = df_ticker,\n",
    "    weights = [0,0,0,0,1],\n",
    "    num_simulation = 100,\n",
    "    num_trading_days = 252*10)"
   ]
  },
  {
   "cell_type": "code",
   "execution_count": null,
   "metadata": {},
   "outputs": [],
   "source": [
    "MC_ESGU.portfolio_data.head()"
   ]
  },
  {
   "cell_type": "code",
   "execution_count": null,
   "metadata": {},
   "outputs": [],
   "source": [
    "# run simulation\n",
    "MC_ESGU.calc_cumulative_return()"
   ]
  },
  {
   "cell_type": "code",
   "execution_count": null,
   "metadata": {},
   "outputs": [],
   "source": [
    "# plot simulation\n",
    "line_plot = MC_ESGU.plot_simulation()"
   ]
  },
  {
   "cell_type": "code",
   "execution_count": null,
   "metadata": {},
   "outputs": [],
   "source": [
    "# Plot probability distribution and confidence intervals\n",
    "dist_plot = MC_ESGU.plot_distribution()"
   ]
  },
  {
   "cell_type": "code",
   "execution_count": null,
   "metadata": {},
   "outputs": [],
   "source": [
    "# Summary statistics from the Monte Carlo simulation results\n",
    "tbl_ESGU = MC_ESGU.summarize_cumulative_return()\n",
    "\n",
    "print(tbl_ESGU)"
   ]
  },
  {
   "cell_type": "code",
   "execution_count": null,
   "metadata": {},
   "outputs": [],
   "source": [
    "# Initial investment\n",
    "initial_investment_ESGU = 100000\n",
    "\n",
    "# Lower and upper `95%` confidence intervals\n",
    "ci_lower_ESGU = round(tbl_ESGU[8]*initial_investment_ESGU,2)\n",
    "ci_upper_ESGU = round(tbl_ESGU[9]*initial_investment_ESGU,2)"
   ]
  },
  {
   "cell_type": "code",
   "execution_count": null,
   "metadata": {},
   "outputs": [],
   "source": [
    "print(f\"There is a 95% chance that an initial investment of ${initial_investment_ESGU}\"\n",
    "      f\" over the next 10 years will end within the range of\"\n",
    "      f\" ${ci_lower_ESGU} and ${ci_upper_ESGU}\")"
   ]
  }
 ],
 "metadata": {
  "kernelspec": {
   "display_name": "Python 3 (ipykernel)",
   "language": "python",
   "name": "python3"
  },
  "language_info": {
   "codemirror_mode": {
    "name": "ipython",
    "version": 3
   },
   "file_extension": ".py",
   "mimetype": "text/x-python",
   "name": "python",
   "nbconvert_exporter": "python",
   "pygments_lexer": "ipython3",
   "version": "3.7.13"
  },
  "vscode": {
   "interpreter": {
    "hash": "7550b1cb1ad6cb8d3dde8398b3ce128e0fb520d6449adea2cfd773b8b1b5d9f9"
   }
  }
 },
 "nbformat": 4,
 "nbformat_minor": 4
}
